import os

class Employee:

    def __init__(self, employee_id, name, position, salary):
        self.employee_id = employee_id
        self.name = name
        self.position = position
        self.salary = salary

    def __str__(self):
        return f"Employee ID: {self.employee_id}, Name: {self.name}, Position: {self.position}"

    # convert to CSV    
    def to_file_format(self):
        return f"{self.employee_id},{self.name},{self.position},{self.salary}"

    # convert CSV to Employee object
    @staticmethod
    def from_file_format(line):
        parts = line.strip().split(',')
        return Employee(parts[0], parts[1], parts[2], float(parts[3]))   



class EmployeeManager:
    FILE_NAME = "employees.txt"

    # we don't need __init__ since EmployeeManager doesn't require any attributes
    # def __init__(self):
    #     pass

    def add_employee(self):
        employee_id = input("Enter employee ID: ")
        name = input("Enter employee name: ")
        position = input("Enter employee position: ")
        salary = float(input("Enter employee salary: "))

        # unique ID
        if self.find_employee_by_id(employee_id):
            print("Error: Employee ID already exists!")
            return

        # instance of Employee
        employee = Employee(employee_id, name, position, salary)
        # add employee to file
        with open(self.FILE_NAME, 'a') as file:
            file.write(employee.to_file_format() + '\n')
        print('Employee added successfully!')   

    def view_all_employees(self):
        # check if file is empty
        if not os.path.exists(self.FILE_NAME):
            print("No employees in the database!")
            return

        print("Employee records:")    
        with open(self.FILE_NAME, 'r') as file:
            for line in file:
                print(Employee.from_file_format(line))

    def find_employee_by_id(self, employee_id):
        # None if file path is empty
        if not os.path.exists(self.FILE_NAME):
            return None

        with open(self.FILE_NAME, 'r') as file:
            for line in file:
                employee = Employee.from_file_format(line)
                if employee.employee_id == employee_id:
                    return employee
        return None   

    def search_employee(self):
        employee_id = input("Enter Employee ID to search: ")
        employee = self.find_employee_by_id(employee_id) 

        if employee:
            print("Employee found:")
            print(employee)
        else:
            print("Employee not found")

    def update_employee(self):
        employee_id = input("Enter Employee ID to update: ")
        employee = self.find_employee_by_id(employee_id)        

        if not employee:
            print("Employee not found!")
            return

        # False or True = True
        print("Updating Employee:", employee)
        name = input("Enter new name (leave blank to keep current): ") or employee.name
        position = input("Enter new position (leave blank to keep current): ") or employee.position
        salary_input = input("Enter new salary (leave blank to keep current): ")
        salary = float(salary_input) if salary_input else employee.salary 

        updated_employee = Employee(employee_id, name, position, salary)  

        # rewrite file with updated employee
        # filter_function => True if not same employee
        self._rewrite_file(lambda emp: emp.employee_id != employee_id, updated_employee) 
        print("Employee updated successfully!")

    def _rewrite_file(self, filter_function, updated_employee=None):
        if not os.path.exists(self.FILE_NAME):
            return

        with open(self.FILE_NAME, 'r') as file:
            employees = [Employee.from_file_format(line) for line in file] 

        with open(self.FILE_NAME, 'w') as file:
            for employee in employees:
                if filter_function(employee):
                    file.write(employee.to_file_format() + '\n')
            # for new employee 
            if updated_employee:
                file.write(updated_employee.to_file_format() + '\n')

    def delete_employee(self):
        employee_id = input("Enter Employee ID to delete: ")
        employee = self.find_employee_by_id(employee_id)
        if not employee:
            print("Employee not found.")
            return

        # Rewrite file without deleted record
        self._rewrite_file(lambda emp: emp.employee_id != employee_id)
        print("Employee deleted successfully!")    

    def menu(self):
        while True:
            print("\nEmployee Records Manager")
            print("1. Add new employee record")
            print("2. View all employee records")
            print("3. Search for an employee by Employee ID")
            print("4. Update an employee's information")
            print("5. Delete an employee record")
            print("6. Exit")

            choice = input("Enter your choice: ")
            if choice == "1":
                self.add_employee()
            elif choice == "2":
                self.view_all_employees()
            elif choice == "3":
                self.search_employee()
            elif choice == "4":
                self.update_employee()
            elif choice == "5":
                self.delete_employee()
            elif choice == "6":
                print("Goodbye!")
                break
            else:
                print("Invalid choice. Please try again.")    


def main():
    print("Welcome to the Employee Records Manager!")
    manager = EmployeeManager()
    manager.menu()

if __name__ == "__main__":
    main()







        