{
 "cells": [
  {
   "cell_type": "markdown",
   "metadata": {},
   "source": [
    "## Generalized `Vector` Class  "
   ]
  },
  {
   "cell_type": "code",
   "execution_count": 10,
   "metadata": {},
   "outputs": [],
   "source": [
    "import math\n",
    "\n",
    "class Vector:\n",
    "\n",
    "    def __init__(self, *args):\n",
    "        # only numeric values are allowed\n",
    "        if not all(isinstance(x, (int, float)) for x in args):\n",
    "            raise TypeError(\"All vector components must be integers or floats.\")\n",
    "        self.components = tuple(args)\n",
    "\n",
    "    # string representation\n",
    "    def __str__(self):\n",
    "        components = ', '.join(f\"{x:.3f}\" if isinstance(x, float) else str(x) for x in self.components)\n",
    "        return f\"Vector({components})\"\n",
    " \n",
    "    # validate dimensions\n",
    "    def _validate_dimensions(self, other):\n",
    "        if not isinstance(other, Vector):\n",
    "            raise TypeError(\"Operand must be a Vector.\")\n",
    "        if len(self.components) != len(other.components):\n",
    "            raise ValueError(\"Vectors must have the same dimensions.\")\n",
    "\n",
    "    # addition\n",
    "    def __add__(self, other):\n",
    "        self._validate_dimensions(other)\n",
    "        return Vector(*[x + y for x, y in zip(self.components, other.components)])\n",
    "\n",
    "    # subtraction\n",
    "    def __sub__(self, other):\n",
    "        self._validate_dimensions(other)\n",
    "        return Vector(*[x - y for x, y in zip(self.components, other.components)])\n",
    "\n",
    "    # multiplication (scalar or dot)\n",
    "    def __mul__(self, other):\n",
    "        # scalar multiplication\n",
    "        if isinstance(other, (int, float)):\n",
    "            return Vector(*[x * other for x in self.components])\n",
    "        elif isinstance(other, Vector):\n",
    "            self._validate_dimensions(other)\n",
    "            return sum(x * y for x, y in zip(self.components, other.components))\n",
    "        else:\n",
    "            raise TypeError(f\"Cannot multiply a Vector with type '{type(other).__name__}'.\")\n",
    "\n",
    "    # reverse multiplication for scalars\n",
    "    def __rmul__(self, other):\n",
    "        return self.__mul__(other)\n",
    "    \n",
    "    # scalar division\n",
    "    def __truediv__(self, scalar):\n",
    "        if scalar == 0:\n",
    "            raise ZeroDivisionError(\"Cannot divide by zero.\")\n",
    "        return self.__mul__(1/scalar)\n",
    "\n",
    "    # magnitude (length) of vector\n",
    "    def magnitude(self):\n",
    "        return math.sqrt(sum(x ** 2 for x in self.components))          \n",
    "\n",
    "    # normalize\n",
    "    def normalize(self):\n",
    "        magnitude = self.magnitude()\n",
    "        if magnitude == 0:\n",
    "            raise ValueError(\"Cannot normalize a zero vector.\")\n",
    "        return self / magnitude\n"
   ]
  },
  {
   "cell_type": "code",
   "execution_count": 11,
   "metadata": {},
   "outputs": [
    {
     "name": "stdout",
     "output_type": "stream",
     "text": [
      "Vector(1, 2, 3)\n",
      "Vector(5, 7, 9)\n",
      "Vector(3, 3, 3)\n",
      "32\n",
      "Vector(3, 6, 9)\n",
      "3.7416573867739413\n",
      "Vector(0.267, 0.535, 0.802)\n"
     ]
    }
   ],
   "source": [
    "# Create vectors\n",
    "v1 = Vector(1, 2, 3)\n",
    "v2 = Vector(4, 5, 6)\n",
    "\n",
    "# Print the vector\n",
    "print(v1)          # Output: Vector(1, 2, 3)\n",
    "\n",
    "# Addition\n",
    "v3 = v1 + v2\n",
    "print(v3)          # Output: Vector(5, 7, 9)\n",
    "\n",
    "# Subtraction\n",
    "v4 = v2 - v1\n",
    "print(v4)          # Output: Vector(3, 3, 3)\n",
    "\n",
    "# Dot product\n",
    "dot_product = v1 * v2\n",
    "print(dot_product) # Output: 32\n",
    "\n",
    "# Scalar multiplication\n",
    "v5 = 3 * v1\n",
    "print(v5)          # Output: Vector(3, 6, 9)\n",
    "\n",
    "# Magnitude\n",
    "print(v1.magnitude())  # Output: 3.7416573867739413\n",
    "\n",
    "# Normalization\n",
    "v_unit = v1.normalize()\n",
    "print(v_unit)      # Output: Vector(0.267, 0.534, 0.801)"
   ]
  },
  {
   "cell_type": "code",
   "execution_count": null,
   "metadata": {},
   "outputs": [],
   "source": []
  }
 ],
 "metadata": {
  "kernelspec": {
   "display_name": "Python 3",
   "language": "python",
   "name": "python3"
  },
  "language_info": {
   "codemirror_mode": {
    "name": "ipython",
    "version": 3
   },
   "file_extension": ".py",
   "mimetype": "text/x-python",
   "name": "python",
   "nbconvert_exporter": "python",
   "pygments_lexer": "ipython3",
   "version": "3.12.6"
  }
 },
 "nbformat": 4,
 "nbformat_minor": 2
}
