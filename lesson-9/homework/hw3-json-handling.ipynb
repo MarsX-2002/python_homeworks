{
 "cells": [
  {
   "cell_type": "markdown",
   "metadata": {},
   "source": [
    "### **Task 3: JSON Handling**"
   ]
  },
  {
   "cell_type": "code",
   "execution_count": 1,
   "metadata": {},
   "outputs": [
    {
     "name": "stdout",
     "output_type": "stream",
     "text": [
      "ID | Task Name       | Completed | Priority\n",
      "-------------------------------------------\n",
      "1  | Do laundry      | False   | 3\n",
      "2  | Buy groceries   | True   | 2\n",
      "3  | Finish homework | False   | 1\n",
      "\n",
      "Task Statistics:\n",
      "Total tasks: 3\n",
      "Completed tasks: 1\n",
      "Pending tasks: 2\n",
      "Average priority: 2.00\n",
      "\n",
      "CSV file 'tasks.csv' created.\n"
     ]
    }
   ],
   "source": [
    "import json\n",
    "import csv\n",
    "\n",
    "# Load tasks from tasks.json\n",
    "def load_tasks():\n",
    "    with open('tasks.json', 'r') as file:\n",
    "        tasks = json.load(file)\n",
    "    return tasks\n",
    "\n",
    "# Save tasks to tasks.json\n",
    "def save_tasks(tasks):\n",
    "    with open('tasks.json', 'w') as file:\n",
    "        json.dump(tasks, file, indent=4)\n",
    "\n",
    "# Display tasks\n",
    "def display_tasks(tasks):\n",
    "    print(\"ID | Task Name       | Completed | Priority\")\n",
    "    print(\"-------------------------------------------\")\n",
    "    for task in tasks:\n",
    "        print(f\"{task['id']}  | {task['task']:<15} | {task['completed']}   | {task['priority']}\")\n",
    "\n",
    "# Calculate task statistics\n",
    "def calculate_stats(tasks):\n",
    "    total_tasks = len(tasks)\n",
    "    completed_tasks = len([task for task in tasks if task['completed']])\n",
    "    pending_tasks = total_tasks - completed_tasks\n",
    "    avg_priority = sum(task['priority'] for task in tasks) / total_tasks if total_tasks > 0 else 0\n",
    "    \n",
    "    print(\"\\nTask Statistics:\")\n",
    "    print(f\"Total tasks: {total_tasks}\")\n",
    "    print(f\"Completed tasks: {completed_tasks}\")\n",
    "    print(f\"Pending tasks: {pending_tasks}\")\n",
    "    print(f\"Average priority: {avg_priority:.2f}\")\n",
    "\n",
    "# Convert JSON data to CSV\n",
    "def convert_to_csv(tasks):\n",
    "    with open('tasks.csv', 'w', newline='') as file:\n",
    "        writer = csv.DictWriter(file, fieldnames=[\"id\", \"task\", \"completed\", \"priority\"])\n",
    "        writer.writeheader()\n",
    "        writer.writerows(tasks)\n",
    "    print(\"\\nCSV file 'tasks.csv' created.\")\n",
    "\n",
    "# Example usage\n",
    "if __name__ == \"__main__\":\n",
    "    # Load tasks\n",
    "    tasks = load_tasks()\n",
    "\n",
    "    # Display tasks\n",
    "    display_tasks(tasks)\n",
    "\n",
    "    # Calculate and display stats\n",
    "    calculate_stats(tasks)\n",
    "\n",
    "    # Convert tasks to CSV\n",
    "    convert_to_csv(tasks)\n",
    "\n",
    "    # Example: Modify a task and save back to the JSON file\n",
    "    tasks[0]['completed'] = True  # Mark the first task as completed\n",
    "    save_tasks(tasks)\n"
   ]
  },
  {
   "cell_type": "code",
   "execution_count": null,
   "metadata": {},
   "outputs": [],
   "source": []
  }
 ],
 "metadata": {
  "kernelspec": {
   "display_name": "Python 3",
   "language": "python",
   "name": "python3"
  },
  "language_info": {
   "codemirror_mode": {
    "name": "ipython",
    "version": 3
   },
   "file_extension": ".py",
   "mimetype": "text/x-python",
   "name": "python",
   "nbconvert_exporter": "python",
   "pygments_lexer": "ipython3",
   "version": "3.12.6"
  }
 },
 "nbformat": 4,
 "nbformat_minor": 2
}
