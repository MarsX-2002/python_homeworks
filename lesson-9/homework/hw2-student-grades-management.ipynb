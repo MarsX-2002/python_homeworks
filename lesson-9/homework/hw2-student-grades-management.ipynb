{
 "cells": [
  {
   "cell_type": "markdown",
   "metadata": {},
   "source": [
    "#### Task 2: Student Grades Management"
   ]
  },
  {
   "cell_type": "code",
   "execution_count": 3,
   "metadata": {},
   "outputs": [
    {
     "name": "stdout",
     "output_type": "stream",
     "text": [
      "ID: 1, Task: Do laundry, Completed: False, Priority: 3\n",
      "ID: 2, Task: Buy groceries, Completed: True, Priority: 2\n",
      "ID: 3, Task: Finish homework, Completed: False, Priority: 1\n"
     ]
    }
   ],
   "source": []
  },
  {
   "cell_type": "code",
   "execution_count": 4,
   "metadata": {},
   "outputs": [
    {
     "name": "stdout",
     "output_type": "stream",
     "text": [
      "ID: 1, Task: Do laundry, Completed: False, Priority: 3\n",
      "ID: 2, Task: Buy groceries, Completed: True, Priority: 2\n",
      "ID: 3, Task: Finish homework, Completed: False, Priority: 1\n",
      "Total tasks: 3\n",
      "Completed tasks: 1\n",
      "Pending tasks: 2\n",
      "Average priority: 2.0\n"
     ]
    }
   ],
   "source": [
    "import csv\n",
    "import json\n",
    "\n",
    "# Task 2: Student Grades Management\n",
    "def manage_grades():\n",
    "    # Read data from 'grades.csv'\n",
    "    with open('grades.csv', mode='r') as file:\n",
    "        reader = csv.DictReader(file)\n",
    "        grades_data = [row for row in reader]\n",
    "\n",
    "    # Calculate average grade for each subject\n",
    "    subject_grades = {}\n",
    "    for entry in grades_data:\n",
    "        subject = entry['Subject']\n",
    "        grade = int(entry['Grade'])\n",
    "        if subject in subject_grades:\n",
    "            subject_grades[subject].append(grade)\n",
    "        else:\n",
    "            subject_grades[subject] = [grade]\n",
    "\n",
    "    average_grades = {subject: sum(grades) / len(grades) for subject, grades in subject_grades.items()}\n",
    "\n",
    "    # Write average grades to 'average_grades.csv'\n",
    "    with open('average_grades.csv', mode='w', newline='') as file:\n",
    "        writer = csv.writer(file)\n",
    "        writer.writerow(['Subject', 'Average Grade'])\n",
    "        for subject, avg in average_grades.items():\n",
    "            writer.writerow([subject, avg])\n",
    "\n",
    "# Task 3: JSON Handling\n",
    "def manage_tasks():\n",
    "    # Load tasks from 'tasks.json'\n",
    "    with open('tasks.json', 'r') as file:\n",
    "        tasks = json.load(file)\n",
    "\n",
    "    # Display all tasks\n",
    "    for task in tasks:\n",
    "        print(f\"ID: {task['id']}, Task: {task['task']}, Completed: {task['completed']}, Priority: {task['priority']}\")\n",
    "\n",
    "    # Calculate and display task completion stats\n",
    "    calculate_task_stats(tasks)\n",
    "\n",
    "    # Save tasks back to 'tasks.json'\n",
    "    with open('tasks.json', 'w') as file:\n",
    "        json.dump(tasks, file, indent=4)\n",
    "\n",
    "    # Convert JSON data to CSV\n",
    "    with open('tasks.csv', 'w', newline='') as file:\n",
    "        writer = csv.writer(file)\n",
    "        writer.writerow(['ID', 'Task', 'Completed', 'Priority'])\n",
    "        for task in tasks:\n",
    "            writer.writerow([task['id'], task['task'], task['completed'], task['priority']])\n",
    "\n",
    "# Function to calculate task completion stats\n",
    "def calculate_task_stats(tasks):\n",
    "    total_tasks = len(tasks)\n",
    "    completed_tasks = sum(1 for task in tasks if task['completed'])\n",
    "    pending_tasks = total_tasks - completed_tasks\n",
    "    average_priority = sum(task['priority'] for task in tasks) / total_tasks\n",
    "\n",
    "    print(f\"Total tasks: {total_tasks}\")\n",
    "    print(f\"Completed tasks: {completed_tasks}\")\n",
    "    print(f\"Pending tasks: {pending_tasks}\")\n",
    "    print(f\"Average priority: {average_priority}\")\n",
    "\n",
    "# Execute the functions\n",
    "if __name__ == \"__main__\":\n",
    "    manage_grades()\n",
    "    manage_tasks()\n"
   ]
  },
  {
   "cell_type": "code",
   "execution_count": null,
   "metadata": {},
   "outputs": [],
   "source": []
  }
 ],
 "metadata": {
  "kernelspec": {
   "display_name": "Python 3",
   "language": "python",
   "name": "python3"
  },
  "language_info": {
   "codemirror_mode": {
    "name": "ipython",
    "version": 3
   },
   "file_extension": ".py",
   "mimetype": "text/x-python",
   "name": "python",
   "nbconvert_exporter": "python",
   "pygments_lexer": "ipython3",
   "version": "3.12.6"
  }
 },
 "nbformat": 4,
 "nbformat_minor": 2
}
