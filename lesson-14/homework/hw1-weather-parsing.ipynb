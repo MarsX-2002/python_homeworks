{
 "cells": [
  {
   "cell_type": "markdown",
   "metadata": {},
   "source": [
    "### Task 1\n",
    "\n",
    "Scrape weather information from an HTML file and process it using Python and BeautifulSoup."
   ]
  },
  {
   "cell_type": "code",
   "execution_count": 3,
   "metadata": {},
   "outputs": [],
   "source": [
    "from bs4 import BeautifulSoup\n",
    "\n",
    "with open(\"weather.html\") as file:\n",
    "    soup = BeautifulSoup(file, \"html.parser\")\n",
    "\n",
    "# print(doc.prettify())    "
   ]
  },
  {
   "cell_type": "markdown",
   "metadata": {},
   "source": [
    "Find table containing weather data"
   ]
  },
  {
   "cell_type": "code",
   "execution_count": 4,
   "metadata": {},
   "outputs": [],
   "source": [
    "table = soup.find('table')\n",
    "\n",
    "# lists to store weather data\n",
    "days = []\n",
    "temperatures = []\n",
    "conditions = []"
   ]
  },
  {
   "cell_type": "markdown",
   "metadata": {},
   "source": [
    "2. **Display Weather Data**:\n",
    "   - Print the **day**, **temperature**, and **condition** for each entry in the forecast."
   ]
  },
  {
   "cell_type": "code",
   "execution_count": 6,
   "metadata": {},
   "outputs": [
    {
     "name": "stdout",
     "output_type": "stream",
     "text": [
      "Day: Monday, Temperature: 25Â°C, Condition: Sunny\n",
      "Day: Tuesday, Temperature: 22Â°C, Condition: Cloudy\n",
      "Day: Wednesday, Temperature: 18Â°C, Condition: Rainy\n",
      "Day: Thursday, Temperature: 20Â°C, Condition: Partly Cloudy\n",
      "Day: Friday, Temperature: 30Â°C, Condition: Sunny\n"
     ]
    }
   ],
   "source": [
    "# loop table body (not include table head)\n",
    "for row in table.find_all('tr')[1:]:\n",
    "    cells = row.find_all('td')\n",
    "    day = cells[0].text\n",
    "    temperature = cells[1].text\n",
    "    condition = cells[2].text\n",
    "\n",
    "    # append data to list\n",
    "    days.append(day)\n",
    "    temperatures.append(temperature)\n",
    "    conditions.append(condition)\n",
    "\n",
    "    # print data\n",
    "    print(f\"Day: {day}, Temperature: {temperature}, Condition: {condition}\")\n"
   ]
  },
  {
   "cell_type": "markdown",
   "metadata": {},
   "source": [
    "3. **Find Specific Data**:\n",
    "   - Identify and print the day(s) with:\n",
    "     - The highest temperature.\n",
    "     - The \"Sunny\" condition."
   ]
  },
  {
   "cell_type": "code",
   "execution_count": 12,
   "metadata": {},
   "outputs": [
    {
     "name": "stdout",
     "output_type": "stream",
     "text": [
      "\n",
      "Day with highest temperature: Friday 30Â°C\n",
      "\n",
      "Days with Sunny condition: Monday, Friday\n"
     ]
    }
   ],
   "source": [
    "import re\n",
    "\n",
    "# Clean up and convert temperatures to integers\n",
    "def clean_temperature(temp_str):\n",
    "    # Remove unwanted characters (like 'Â') and keep only numbers and the degree symbol\n",
    "    cleaned_temp = re.sub(r'[^\\d°C]', '', temp_str)\n",
    "    # Remove '°C' and convert to integer\n",
    "    cleaned_temp = cleaned_temp.replace('°C', '').strip()\n",
    "    return int(cleaned_temp)\n",
    "\n",
    "# find day with highest temperature\n",
    "max_temp = max(temperatures, key=lambda temp: clean_temperature(temp))\n",
    "max_temp_day = days[temperatures.index(max_temp)]\n",
    "\n",
    "print(f\"\\nDay with highest temperature: {max_temp_day} {max_temp}\")\n",
    "\n",
    "# Find all days with Sunny condition\n",
    "sunny_days = [days[i] for i, condition in enumerate(conditions) if condition.lower() == 'sunny']\n",
    "print(f\"\\nDays with Sunny condition: {', '.join(sunny_days)}\")"
   ]
  },
  {
   "cell_type": "markdown",
   "metadata": {},
   "source": [
    "4. **Calculate Average Temperature**:\n",
    "   - Compute and print the **average temperature** for the week."
   ]
  },
  {
   "cell_type": "code",
   "execution_count": 13,
   "metadata": {},
   "outputs": [
    {
     "name": "stdout",
     "output_type": "stream",
     "text": [
      "Average temperature: 23.00°C\n"
     ]
    }
   ],
   "source": [
    "# Calculate average temperature\n",
    "temp_values = [clean_temperature(temp) for temp in temperatures]\n",
    "average_temp = sum(temp_values) / len(temp_values)\n",
    "\n",
    "print(f\"Average temperature: {average_temp:.2f}°C\")"
   ]
  }
 ],
 "metadata": {
  "kernelspec": {
   "display_name": "Python 3",
   "language": "python",
   "name": "python3"
  },
  "language_info": {
   "codemirror_mode": {
    "name": "ipython",
    "version": 3
   },
   "file_extension": ".py",
   "mimetype": "text/x-python",
   "name": "python",
   "nbconvert_exporter": "python",
   "pygments_lexer": "ipython3",
   "version": "3.12.6"
  }
 },
 "nbformat": 4,
 "nbformat_minor": 2
}
