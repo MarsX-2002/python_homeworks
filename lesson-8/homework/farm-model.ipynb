{
 "cells": [
  {
   "cell_type": "markdown",
   "metadata": {},
   "source": [
    "## Model a Farm"
   ]
  },
  {
   "cell_type": "code",
   "execution_count": 2,
   "metadata": {},
   "outputs": [
    {
     "name": "stdout",
     "output_type": "stream",
     "text": [
      "Mallavoy the Cow is eating.\n",
      "Mallavoy the cow is producing milk\n",
      "Mallavoy says Moo!\n",
      "Dakan says Chip-Chip!\n",
      "Dakan the chicken laid an egg\n",
      "Qoravoy the Sheep is sleeping.\n",
      "Qoravoy the sheep is providing wool\n"
     ]
    }
   ],
   "source": [
    "class Animal:\n",
    "    \"\"\"Parent class for all animals on the farm\"\"\"\n",
    "    def __init__(self, name, species, sound):\n",
    "        self.name = name\n",
    "        self.species = species\n",
    "        self.sound = sound\n",
    "\n",
    "    def eat(self):\n",
    "        return f\"{self.name} the {self.species} is eating.\"\n",
    "\n",
    "    def sleep(self):\n",
    "        return f\"{self.name} the {self.species} is sleeping.\"\n",
    "\n",
    "    def make_sound(self):\n",
    "        return f\"{self.name} says {self.sound}!\"\n",
    "\n",
    "class Cow(Animal):\n",
    "    def __init__(self, name):\n",
    "        super().__init__(name, \"Cow\", \"Moo\")\n",
    "\n",
    "    def produce_milk(self):\n",
    "        return f\"{self.name} the cow is producing milk\"\n",
    "\n",
    "class Chicken(Animal):\n",
    "    def __init__(self, name):\n",
    "        super().__init__(name, \"Chicken\", \"Chip-Chip\")\n",
    "\n",
    "    def lay_egg(self):\n",
    "        return f\"{self.name} the chicken laid an egg\"\n",
    "\n",
    "class Sheep(Animal):\n",
    "    def __init__(self, name):\n",
    "        super().__init__(name, \"Sheep\", \"Baa\")\n",
    "\n",
    "    def provide_wool(self):\n",
    "        return f\"{self.name} the sheep is providing wool\"\n",
    "\n",
    "\n",
    "if __name__ == \"__main__\":\n",
    "    # Create animals\n",
    "    mallavoy = Cow(\"Mallavoy\")\n",
    "    dakan = Chicken(\"Dakan\")\n",
    "    qoravoy = Sheep(\"Qoravoy\")\n",
    "\n",
    "    # Simulate farm activities\n",
    "    print(mallavoy.eat())\n",
    "    print(mallavoy.produce_milk())\n",
    "    print(mallavoy.make_sound())\n",
    "    print(dakan.make_sound())\n",
    "    print(dakan.lay_egg())\n",
    "    print(qoravoy.sleep())\n",
    "    print(qoravoy.provide_wool())"
   ]
  },
  {
   "cell_type": "code",
   "execution_count": null,
   "metadata": {},
   "outputs": [],
   "source": []
  }
 ],
 "metadata": {
  "kernelspec": {
   "display_name": "Python 3",
   "language": "python",
   "name": "python3"
  },
  "language_info": {
   "codemirror_mode": {
    "name": "ipython",
    "version": 3
   },
   "file_extension": ".py",
   "mimetype": "text/x-python",
   "name": "python",
   "nbconvert_exporter": "python",
   "pygments_lexer": "ipython3",
   "version": "3.12.6"
  }
 },
 "nbformat": 4,
 "nbformat_minor": 2
}
