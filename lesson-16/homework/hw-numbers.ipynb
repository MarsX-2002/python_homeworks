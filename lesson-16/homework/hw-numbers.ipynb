{
 "cells": [
  {
   "cell_type": "markdown",
   "metadata": {},
   "source": [
    "Imports"
   ]
  },
  {
   "cell_type": "code",
   "execution_count": 1,
   "metadata": {},
   "outputs": [],
   "source": [
    "import numpy as np"
   ]
  },
  {
   "cell_type": "markdown",
   "metadata": {},
   "source": [
    "Task 1. Write a Python function that converts a temperature from Fahrenheit to Celsius. Use `numpy.vectorize` to apply this function to an array of temperatures: `[32, 68, 100, 212, 77]`. \n",
    "   - Formula: $C = (F - 32) \\times \\frac{5}{9}$"
   ]
  },
  {
   "cell_type": "code",
   "execution_count": 2,
   "metadata": {},
   "outputs": [],
   "source": [
    "# apply this function to each element of the array\n",
    "@np.vectorize\n",
    "def fahrenheit_to_celsius(F):\n",
    "    \"\"\"\n",
    "    Convert temperature from Fahrenheit to Celsius.\n",
    "\n",
    "    Parameters:\n",
    "    F (float or int): Temperature in Fahrenheit.\n",
    "\n",
    "    Returns:\n",
    "    float: Temperature in Celsius.\n",
    "    \"\"\"\n",
    "    C = (F - 32) * (5 / 9)\n",
    "    return C"
   ]
  },
  {
   "cell_type": "code",
   "execution_count": 3,
   "metadata": {},
   "outputs": [
    {
     "data": {
      "text/plain": [
       "array([  0.  ,  20.  ,  37.78, 100.  ,  25.  ])"
      ]
     },
     "execution_count": 3,
     "metadata": {},
     "output_type": "execute_result"
    }
   ],
   "source": [
    "# data\n",
    "temp_far = [32, 68, 100, 212, 77]\n",
    "\n",
    "# display\n",
    "temp_cel = np.round(fahrenheit_to_celsius(temp_far), 2)\n",
    "temp_cel"
   ]
  },
  {
   "cell_type": "markdown",
   "metadata": {},
   "source": [
    "Task 2. Create a custom function that takes two arguments: a number and a power. Use `numpy.vectorize` to calculate the power for each pair of numbers in two arrays: `[2, 3, 4, 5]` and `[1, 2, 3, 4]`."
   ]
  },
  {
   "cell_type": "code",
   "execution_count": 4,
   "metadata": {},
   "outputs": [],
   "source": [
    "@np.vectorize\n",
    "def arr_pow(num, pow):\n",
    "    \"\"\"\n",
    "        Compute `num` raised to the power of `pow`.\n",
    "\n",
    "        Parameters:\n",
    "        num (int or float): Base number.\n",
    "        pow (int or float): Exponent.\n",
    "\n",
    "        Returns:\n",
    "        int or float: Result of the power operation.\n",
    "    \"\"\"\n",
    "    return num ** pow"
   ]
  },
  {
   "cell_type": "code",
   "execution_count": 5,
   "metadata": {},
   "outputs": [
    {
     "data": {
      "text/plain": [
       "array([  2,   9,  64, 625])"
      ]
     },
     "execution_count": 5,
     "metadata": {},
     "output_type": "execute_result"
    }
   ],
   "source": [
    "# data\n",
    "numbers = [2, 3, 4, 5]\n",
    "powers = [1, 2, 3, 4]\n",
    "\n",
    "# display\n",
    "arr_pow(numbers, powers)"
   ]
  },
  {
   "cell_type": "markdown",
   "metadata": {},
   "source": [
    "Task 3. Solve the system of equations using `numpy`:\n",
    "\n",
    "$$\n",
    "\\begin{cases}\n",
    "4x + 5y + 6z = 7 \\\\\n",
    "3x - y + z = 4 \\\\\n",
    "2x + y - 2z = 5\n",
    "\\end{cases}\n",
    "$$"
   ]
  },
  {
   "cell_type": "code",
   "execution_count": 6,
   "metadata": {},
   "outputs": [
    {
     "name": "stdout",
     "output_type": "stream",
     "text": [
      "x = 1.7027027027027029, y = 0.6216216216216216, z = -0.48648648648648646\n"
     ]
    }
   ],
   "source": [
    "# coefficient matrix\n",
    "A = np.array([[4, 5, 6],\n",
    "              [3, -1, 1],\n",
    "              [2, 1, -2]])\n",
    "\n",
    "# constant vector\n",
    "b = np.array([7, 4, 5])\n",
    "# solve linear system Ax = b\n",
    "res = np.linalg.solve(A, b)\n",
    "\n",
    "# display\n",
    "x, y, z = res\n",
    "print(f\"x = {x}, y = {y}, z = {z}\")"
   ]
  },
  {
   "cell_type": "markdown",
   "metadata": {},
   "source": [
    "Task 4. Given the electrical circuit equations below, solve for $I_1, I_2, I_3$ (currents in the branches):\n",
    "\n",
    "$$\n",
    "\\begin{cases}\n",
    "10I_1 - 2I_2 + 3I_3 = 12 \\\\\n",
    "-2I_1 + 8I_2 - I_3 = -5 \\\\\n",
    "3I_1 - I_2 + 6I_3 = 15\n",
    "\\end{cases}\n",
    "$$"
   ]
  },
  {
   "cell_type": "code",
   "execution_count": 7,
   "metadata": {},
   "outputs": [
    {
     "name": "stdout",
     "output_type": "stream",
     "text": [
      "I_1 = 0.48963730569948194, I_2 = -0.2253886010362694, I_3 = 2.2176165803108807\n"
     ]
    }
   ],
   "source": [
    "# coefficient matrix\n",
    "C = np.array([[10, -2, 3],\n",
    "              [-2, 8, -1],\n",
    "              [3, -1, 6]])\n",
    "\n",
    "# constant vector\n",
    "i = np.array([12, -5, 15])\n",
    "# solve linear system Ax = b\n",
    "res_C = np.linalg.solve(C, i)\n",
    "\n",
    "# display\n",
    "I_1, I_2, I_3 = res_C\n",
    "print(f\"I_1 = {I_1}, I_2 = {I_2}, I_3 = {I_3}\")"
   ]
  },
  {
   "cell_type": "code",
   "execution_count": null,
   "metadata": {},
   "outputs": [],
   "source": []
  }
 ],
 "metadata": {
  "kernelspec": {
   "display_name": "Python 3",
   "language": "python",
   "name": "python3"
  },
  "language_info": {
   "codemirror_mode": {
    "name": "ipython",
    "version": 3
   },
   "file_extension": ".py",
   "mimetype": "text/x-python",
   "name": "python",
   "nbconvert_exporter": "python",
   "pygments_lexer": "ipython3",
   "version": "3.12.6"
  }
 },
 "nbformat": 4,
 "nbformat_minor": 2
}
