{
 "cells": [
  {
   "cell_type": "markdown",
   "metadata": {},
   "source": [
    "Task: Create a simple text-based Rock, Paper, Scissors game where the player plays against the computer.\n",
    "- The computer randomly chooses `rock`, `paper`, or `scissors` using `random.choice()`.\n",
    "- The player enters their choice.\n",
    "- Display the winner and keep track of scores for the player and the computer.\n",
    "- First to 5 points wins the match."
   ]
  },
  {
   "cell_type": "code",
   "execution_count": 1,
   "metadata": {},
   "outputs": [
    {
     "name": "stdout",
     "output_type": "stream",
     "text": [
      "Welcome to Rock, Paper, Scissors!\n",
      "First to 5 points wins!\n",
      "\n",
      "Score - Player: 0, Computer: 0\n",
      "Computer chose: paper\n",
      "Computer wins this round!\n",
      "\n",
      "Score - Player: 0, Computer: 1\n",
      "Computer chose: scissors\n",
      "Computer wins this round!\n",
      "\n",
      "Score - Player: 0, Computer: 2\n",
      "Computer chose: rock\n",
      "It's a tie!\n",
      "\n",
      "Score - Player: 0, Computer: 2\n",
      "Computer chose: rock\n",
      "It's a tie!\n",
      "\n",
      "Score - Player: 0, Computer: 2\n",
      "Invalid choice! Please try again.\n",
      "\n",
      "Score - Player: 0, Computer: 2\n",
      "Computer chose: scissors\n",
      "You win this round!\n",
      "\n",
      "Score - Player: 1, Computer: 2\n",
      "Computer chose: scissors\n",
      "You win this round!\n",
      "\n",
      "Score - Player: 2, Computer: 2\n",
      "Computer chose: scissors\n",
      "You win this round!\n",
      "\n",
      "Score - Player: 3, Computer: 2\n",
      "Computer chose: paper\n",
      "Computer wins this round!\n",
      "\n",
      "Score - Player: 3, Computer: 3\n",
      "Computer chose: paper\n",
      "Computer wins this round!\n",
      "\n",
      "Score - Player: 3, Computer: 4\n",
      "Computer chose: scissors\n",
      "You win this round!\n",
      "\n",
      "Score - Player: 4, Computer: 4\n",
      "Computer chose: paper\n",
      "Computer wins this round!\n",
      "\n",
      "Final Score - Player: 4, Computer: 5\n",
      "Game Over! Computer wins!\n"
     ]
    }
   ],
   "source": [
    "import random\n",
    "\n",
    "choices = ['rock', 'paper', 'scissors']\n",
    "player_score = 0\n",
    "computer_score = 0\n",
    "\n",
    "print(\"Welcome to Rock, Paper, Scissors!\")\n",
    "print(\"First to 5 points wins!\")\n",
    "\n",
    "while player_score < 5 and computer_score < 5:\n",
    "    print(f\"\\nScore - Player: {player_score}, Computer: {computer_score}\")\n",
    "    \n",
    "    # player's choice\n",
    "    player_choice = input(\"Enter rock, paper, or scissors: \").lower()\n",
    "    if player_choice not in choices:\n",
    "        print(\"Invalid choice! Please try again.\")\n",
    "        continue\n",
    "    \n",
    "    # computer's choice\n",
    "    computer_choice = random.choice(choices)\n",
    "    print(f\"Computer chose: {computer_choice}\")\n",
    "    \n",
    "    # who is winner\n",
    "    if player_choice == computer_choice:\n",
    "        print(\"It's a tie!\")\n",
    "    elif (player_choice == 'rock' and computer_choice == 'scissors') or \\\n",
    "         (player_choice == 'paper' and computer_choice == 'rock') or \\\n",
    "         (player_choice == 'scissors' and computer_choice == 'paper'):\n",
    "        print(\"You win this round!\")\n",
    "        player_score += 1\n",
    "    else:\n",
    "        print(\"Computer wins this round!\")\n",
    "        computer_score += 1\n",
    "\n",
    "# final winner\n",
    "print(f\"\\nFinal Score - Player: {player_score}, Computer: {computer_score}\")\n",
    "if player_score > computer_score:\n",
    "    print(\"Congratulations! You won the game!\")\n",
    "else:\n",
    "    print(\"Game Over! Computer wins!\")\n"
   ]
  },
  {
   "cell_type": "markdown",
   "metadata": {},
   "source": []
  }
 ],
 "metadata": {
  "kernelspec": {
   "display_name": "Python 3",
   "language": "python",
   "name": "python3"
  },
  "language_info": {
   "codemirror_mode": {
    "name": "ipython",
    "version": 3
   },
   "file_extension": ".py",
   "mimetype": "text/x-python",
   "name": "python",
   "nbconvert_exporter": "python",
   "pygments_lexer": "ipython3",
   "version": "3.12.6"
  }
 },
 "nbformat": 4,
 "nbformat_minor": 2
}
