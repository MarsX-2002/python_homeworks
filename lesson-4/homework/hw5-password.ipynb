{
 "cells": [
  {
   "cell_type": "markdown",
   "metadata": {},
   "source": [
    "**5. Password Checker**\n",
    "Task: Create a simple password checker.\n",
    "- Ask the user to enter a password. \n",
    "- If the password is shorter than 8 characters, print \"Password is too short.\" \n",
    "- If the password doesn’t contain at least one uppercase letter, print \"Password must contain an uppercase letter.\". \n",
    "- If the password meets both criteria, print \"Password is strong.\""
   ]
  },
  {
   "cell_type": "code",
   "execution_count": 4,
   "metadata": {},
   "outputs": [
    {
     "name": "stdout",
     "output_type": "stream",
     "text": [
      "Password is strong.\n"
     ]
    }
   ],
   "source": [
    "password = input(\"Enter your password: \")\n",
    "\n",
    "if len(password) < 8:\n",
    "    print(\"Password is too short.\")\n",
    "elif not any(char.isupper() for char in password):\n",
    "    print(\"Password must contain an uppercase letter.\")\n",
    "else:\n",
    "    print(\"Password is strong.\")"
   ]
  },
  {
   "cell_type": "markdown",
   "metadata": {},
   "source": []
  }
 ],
 "metadata": {
  "kernelspec": {
   "display_name": "Python 3",
   "language": "python",
   "name": "python3"
  },
  "language_info": {
   "codemirror_mode": {
    "name": "ipython",
    "version": 3
   },
   "file_extension": ".py",
   "mimetype": "text/x-python",
   "name": "python",
   "nbconvert_exporter": "python",
   "pygments_lexer": "ipython3",
   "version": "3.12.6"
  }
 },
 "nbformat": 4,
 "nbformat_minor": 2
}
