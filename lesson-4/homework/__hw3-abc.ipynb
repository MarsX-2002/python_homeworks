{
 "cells": [
  {
   "cell_type": "markdown",
   "metadata": {},
   "source": [
    "3. ```txt``` nomli string saqlovchi o'zgaruvchi berilgan. ```txt```dagi har uchinchi belgidan keyin pastgi chiziqcha (underscore) qo'yilsin. Agar belgi unli harf yoki orqasidan ostki chiziqcha qo'yilgan harf bo'lsa, ostki chiziqcha keyingi harfdan keyin qo'yilsin. Agar belgi satrdagi oxirgi belgi bo'lsa chiziqcha qo'yilmasin.\n",
    "\n",
    "3. Given a string variable named ```txt```, put an underscore after every third character in ```txt```. If the character is a vowel or a letter followed by an underscore, put the underscore after the next character. If the character is the last character on the line, do not put an underscore."
   ]
  },
  {
   "cell_type": "code",
   "execution_count": 6,
   "metadata": {},
   "outputs": [
    {
     "name": "stdout",
     "output_type": "stream",
     "text": [
      "abc_abc_dab_cdea_bc_def_abc_defg\n"
     ]
    }
   ],
   "source": [
    "# coundn't solve :(\n",
    "\n",
    "txt = \"abcabcdabcdeabcdefabcdefg\"\n",
    "result = []\n",
    "i = 0\n",
    "vowels = set('aeiouAEIOU')\n",
    "    \n",
    "while i < len(txt):\n",
    "        # Check if current position is last character\n",
    "    if i == len(txt) - 1:\n",
    "        result.append(txt[i])\n",
    "        break\n",
    "        \n",
    "    # Add current character\n",
    "    result.append(txt[i])\n",
    "        \n",
    "    # Don't add underscore if this is the last character\n",
    "    if i == len(txt) - 1:\n",
    "        break\n",
    "            \n",
    "    i += 1\n",
    "        \n",
    "    # Check if we're at a position that needs underscore\n",
    "    if i % 3 == 0 and i < len(txt):\n",
    "        # If previous character is a vowel, include next character before underscore\n",
    "        if txt[i-1] in vowels and i < len(txt):\n",
    "            result.append(txt[i])\n",
    "            if i < len(txt) - 1:  # Only add underscore if not at end\n",
    "                result.append('_')\n",
    "            i += 1\n",
    "        else:\n",
    "            if i < len(txt) - 1:  # Only add underscore if not at end\n",
    "                result.append('_')\n",
    "    \n",
    "final =  ''.join(result)\n",
    "\n",
    "print(final)"
   ]
  },
  {
   "cell_type": "code",
   "execution_count": null,
   "metadata": {},
   "outputs": [],
   "source": []
  }
 ],
 "metadata": {
  "kernelspec": {
   "display_name": "Python 3",
   "language": "python",
   "name": "python3"
  },
  "language_info": {
   "codemirror_mode": {
    "name": "ipython",
    "version": 3
   },
   "file_extension": ".py",
   "mimetype": "text/x-python",
   "name": "python",
   "nbconvert_exporter": "python",
   "pygments_lexer": "ipython3",
   "version": "3.12.6"
  }
 },
 "nbformat": 4,
 "nbformat_minor": 2
}
