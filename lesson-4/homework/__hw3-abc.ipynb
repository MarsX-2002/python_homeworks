{
 "cells": [
  {
   "cell_type": "markdown",
   "metadata": {},
   "source": [
    "3. ```txt``` nomli string saqlovchi o'zgaruvchi berilgan. ```txt```dagi har uchinchi belgidan keyin pastgi chiziqcha (underscore) qo'yilsin. Agar belgi unli harf yoki orqasidan ostki chiziqcha qo'yilgan harf bo'lsa, ostki chiziqcha keyingi harfdan keyin qo'yilsin. Agar belgi satrdagi oxirgi belgi bo'lsa chiziqcha qo'yilmasin.\n",
    "\n",
    "3. Given a string variable named ```txt```, put an underscore after every third character in ```txt```. If the character is a vowel or a letter followed by an underscore, put the underscore after the next character. If the character is the last character on the line, do not put an underscore."
   ]
  },
  {
   "cell_type": "code",
   "execution_count": 7,
   "metadata": {},
   "outputs": [
    {
     "name": "stdout",
     "output_type": "stream",
     "text": [
      "abc_abc_dab_cdeabc_def_abc_def_g\n"
     ]
    }
   ],
   "source": [
    "txt = \"abcabcdabcdeabcdefabcdefg\"\n",
    "result = []\n",
    "vowels = set('aeiouAEIOU')\n",
    "\n",
    "i = 0\n",
    "while i < len(txt):\n",
    "    # Add the current character to the result\n",
    "    result.append(txt[i])\n",
    "\n",
    "    # Check if we need to add an underscore\n",
    "    if (i + 1) % 3 == 0 and i < len(txt) - 1:  # Check if the index is a multiple of 3 (1-based)\n",
    "        # Skip if the current character is a vowel or already followed by an underscore\n",
    "        if txt[i] not in vowels and (i == 0 or txt[i - 1] != '_'):\n",
    "            result.append('_')\n",
    "    \n",
    "    i += 1\n",
    "\n",
    "# Join the result to form the final string\n",
    "final = ''.join(result)\n",
    "print(final)\n"
   ]
  },
  {
   "cell_type": "code",
   "execution_count": null,
   "metadata": {},
   "outputs": [],
   "source": []
  }
 ],
 "metadata": {
  "kernelspec": {
   "display_name": "Python 3",
   "language": "python",
   "name": "python3"
  },
  "language_info": {
   "codemirror_mode": {
    "name": "ipython",
    "version": 3
   },
   "file_extension": ".py",
   "mimetype": "text/x-python",
   "name": "python",
   "nbconvert_exporter": "python",
   "pygments_lexer": "ipython3",
   "version": "3.12.6"
  }
 },
 "nbformat": 4,
 "nbformat_minor": 2
}
