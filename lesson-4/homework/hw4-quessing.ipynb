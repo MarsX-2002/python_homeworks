{
 "cells": [
  {
   "cell_type": "markdown",
   "metadata": {},
   "source": [
    "**4. Number Guessing Game**\n",
    "Create a simple number guessing game.\n",
    "- The computer randomly selects a number between 1 and 100. \n",
    "- If the guess is high, print \"Too high!\". \n",
    "- If the guess is low, print \"Too low!\". \n",
    "- If they guess correctly, print \"You guessed it right!\" and exit the loop.\n",
    "- The player has 10 attempts to guess it. If the player can not find the correct number in 10 attempts, print \"You lost. Want to play again? \".\n",
    "- If the player types one of 'Y', 'YES', 'y', 'yes', 'ok' then start the game from the beginning."
   ]
  },
  {
   "cell_type": "code",
   "execution_count": 2,
   "metadata": {},
   "outputs": [
    {
     "name": "stdout",
     "output_type": "stream",
     "text": [
      "secret number:  63\n",
      "\n",
      "You have 10 attempts left.\n",
      "Too low!\n",
      "\n",
      "You have 9 attempts left.\n",
      "Too high!\n",
      "\n",
      "You have 8 attempts left.\n",
      "Too high!\n",
      "\n",
      "You have 7 attempts left.\n",
      "You guessed it right!\n",
      "Thanks for playing!\n"
     ]
    }
   ],
   "source": [
    "import random\n",
    "\n",
    "while True:\n",
    "    # random number between 1 and 100\n",
    "    secret_number = random.randint(1, 100)\n",
    "    attempts = 10\n",
    "\n",
    "    print(\"secret number: \", secret_number)\n",
    "\n",
    "    # game loop\n",
    "    while attempts > 0:\n",
    "        print(f\"\\nYou have {attempts} attempts left.\")\n",
    "        guess = int(input(\"Enter your guess (1-100): \"))\n",
    "        \n",
    "        if guess < 1 or guess > 100:\n",
    "            print(\"Please enter a number between 1 and 100!\")\n",
    "            continue\n",
    "            \n",
    "        if guess == secret_number:\n",
    "            print(\"You guessed it right!\")\n",
    "            break\n",
    "        elif guess > secret_number:\n",
    "            print(\"Too high!\")\n",
    "        else:\n",
    "            print(\"Too low!\")\n",
    "        \n",
    "        attempts -= 1\n",
    "            \n",
    "       \n",
    "    \n",
    "    if attempts == 0:\n",
    "        print(\"\\nYou lost.\")\n",
    "    \n",
    "    play_again = input(\"Want to play again? \").strip().lower()\n",
    "    if play_again not in ['y', 'yes', 'ok']:\n",
    "        print(\"Thanks for playing!\")\n",
    "        break"
   ]
  },
  {
   "cell_type": "code",
   "execution_count": null,
   "metadata": {},
   "outputs": [],
   "source": []
  }
 ],
 "metadata": {
  "kernelspec": {
   "display_name": "Python 3",
   "language": "python",
   "name": "python3"
  },
  "language_info": {
   "codemirror_mode": {
    "name": "ipython",
    "version": 3
   },
   "file_extension": ".py",
   "mimetype": "text/x-python",
   "name": "python",
   "nbconvert_exporter": "python",
   "pygments_lexer": "ipython3",
   "version": "3.12.6"
  }
 },
 "nbformat": 4,
 "nbformat_minor": 2
}
