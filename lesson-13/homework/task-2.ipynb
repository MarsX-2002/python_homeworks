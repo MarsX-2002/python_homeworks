{
 "cells": [
  {
   "cell_type": "markdown",
   "metadata": {},
   "source": [
    "### Task 2"
   ]
  },
  {
   "cell_type": "markdown",
   "metadata": {},
   "source": [
    "1. **Database Creation**"
   ]
  },
  {
   "cell_type": "code",
   "execution_count": 3,
   "metadata": {},
   "outputs": [
    {
     "data": {
      "text/plain": [
       "<sqlite3.Cursor at 0x1f80d2732c0>"
      ]
     },
     "execution_count": 3,
     "metadata": {},
     "output_type": "execute_result"
    }
   ],
   "source": [
    "import sqlite3\n",
    "\n",
    "# Create a new SQLite database named `library.db`.\n",
    "library_conn = sqlite3.connect('library.db')\n",
    "library_cursor = library_conn.cursor()\n",
    "\n",
    "# Define a table called Books with specified schema.\n",
    "library_cursor.execute('''\n",
    "CREATE TABLE Books (\n",
    "    Title TEXT,\n",
    "    Author TEXT,\n",
    "    Year_Published INTEGER,\n",
    "    Genre TEXT\n",
    ")\n",
    "''')"
   ]
  },
  {
   "cell_type": "markdown",
   "metadata": {},
   "source": [
    "2. **Insert Data**"
   ]
  },
  {
   "cell_type": "code",
   "execution_count": 4,
   "metadata": {},
   "outputs": [
    {
     "data": {
      "text/plain": [
       "<sqlite3.Cursor at 0x1f80d2732c0>"
      ]
     },
     "execution_count": 4,
     "metadata": {},
     "output_type": "execute_result"
    }
   ],
   "source": [
    "# Populate the Books table with the specified entries.\n",
    "library_cursor.executemany('''\n",
    "INSERT INTO Books (Title, Author, Year_Published, Genre) VALUES (?, ?, ?, ?)\n",
    "''', [\n",
    "    ('To Kill a Mockingbird', 'Harper Lee', 1960, 'Fiction'),\n",
    "    ('1984', 'George Orwell', 1949, 'Dystopian'),\n",
    "    ('The Great Gatsby', 'F. Scott Fitzgerald', 1925, 'Classic')\n",
    "])"
   ]
  },
  {
   "cell_type": "markdown",
   "metadata": {},
   "source": [
    "3. **Update Data**"
   ]
  },
  {
   "cell_type": "code",
   "execution_count": 5,
   "metadata": {},
   "outputs": [
    {
     "data": {
      "text/plain": [
       "<sqlite3.Cursor at 0x1f80d2732c0>"
      ]
     },
     "execution_count": 5,
     "metadata": {},
     "output_type": "execute_result"
    }
   ],
   "source": [
    "# Update the Year_Published of 1984 to 1950.\n",
    "library_cursor.execute('''\n",
    "UPDATE Books SET Year_Published = 1950 WHERE Title = '1984'\n",
    "''')"
   ]
  },
  {
   "cell_type": "markdown",
   "metadata": {},
   "source": [
    "4. **Query Data**"
   ]
  },
  {
   "cell_type": "code",
   "execution_count": 6,
   "metadata": {},
   "outputs": [],
   "source": [
    "# Retrieve and display the Title and Author of all books where the Genre is Dystopian.\n",
    "library_cursor.execute('''\n",
    "SELECT Title, Author FROM Books WHERE Genre = 'Dystopian'\n",
    "''')\n",
    "dystopian_books = library_cursor.fetchall()"
   ]
  },
  {
   "cell_type": "markdown",
   "metadata": {},
   "source": [
    "5. **Delete Data**"
   ]
  },
  {
   "cell_type": "code",
   "execution_count": 7,
   "metadata": {},
   "outputs": [
    {
     "data": {
      "text/plain": [
       "<sqlite3.Cursor at 0x1f80d2732c0>"
      ]
     },
     "execution_count": 7,
     "metadata": {},
     "output_type": "execute_result"
    }
   ],
   "source": [
    "# Remove all books published before the year 1950 from the table.\n",
    "library_cursor.execute('''\n",
    "DELETE FROM Books WHERE Year_Published < 1950\n",
    "''')"
   ]
  },
  {
   "cell_type": "markdown",
   "metadata": {},
   "source": [
    "6. **Bonus Task**"
   ]
  },
  {
   "cell_type": "code",
   "execution_count": 8,
   "metadata": {},
   "outputs": [
    {
     "data": {
      "text/plain": [
       "<sqlite3.Cursor at 0x1f80d2732c0>"
      ]
     },
     "execution_count": 8,
     "metadata": {},
     "output_type": "execute_result"
    }
   ],
   "source": [
    "# Add a new column called Rating to the Books table.\n",
    "library_cursor.execute('''\n",
    "ALTER TABLE Books ADD COLUMN Rating REAL\n",
    "''')\n",
    "\n",
    "# Update the data with specified Rating values.\n",
    "library_cursor.executemany('''\n",
    "UPDATE Books SET Rating = ? WHERE Title = ?\n",
    "''', [\n",
    "    (4.8, 'To Kill a Mockingbird'),\n",
    "    (4.7, '1984'),\n",
    "    (4.5, 'The Great Gatsby')\n",
    "])"
   ]
  },
  {
   "cell_type": "markdown",
   "metadata": {},
   "source": [
    "7. **Advanced Query**"
   ]
  },
  {
   "cell_type": "code",
   "execution_count": 9,
   "metadata": {},
   "outputs": [],
   "source": [
    "# Retrieve all books sorted by their Year_Published in ascending order.\n",
    "library_cursor.execute('''\n",
    "SELECT * FROM Books ORDER BY Year_Published ASC\n",
    "''')\n",
    "sorted_books = library_cursor.fetchall()\n",
    "\n",
    "# Commit changes and close the connection.\n",
    "library_conn.commit()\n",
    "library_conn.close()"
   ]
  },
  {
   "cell_type": "markdown",
   "metadata": {},
   "source": []
  },
  {
   "cell_type": "code",
   "execution_count": 10,
   "metadata": {},
   "outputs": [
    {
     "name": "stdout",
     "output_type": "stream",
     "text": [
      "Dystopian Books: [('1984', 'George Orwell')]\n",
      "Books Sorted by Year Published: [('1984', 'George Orwell', 1950, 'Dystopian', 4.7), ('To Kill a Mockingbird', 'Harper Lee', 1960, 'Fiction', 4.8)]\n"
     ]
    }
   ],
   "source": [
    "# Print results\n",
    "print(\"Dystopian Books:\", dystopian_books)\n",
    "print(\"Books Sorted by Year Published:\", sorted_books)"
   ]
  }
 ],
 "metadata": {
  "kernelspec": {
   "display_name": "Python 3",
   "language": "python",
   "name": "python3"
  },
  "language_info": {
   "codemirror_mode": {
    "name": "ipython",
    "version": 3
   },
   "file_extension": ".py",
   "mimetype": "text/x-python",
   "name": "python",
   "nbconvert_exporter": "python",
   "pygments_lexer": "ipython3",
   "version": "3.12.6"
  }
 },
 "nbformat": 4,
 "nbformat_minor": 2
}
