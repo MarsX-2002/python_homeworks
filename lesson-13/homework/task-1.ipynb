{
 "cells": [
  {
   "cell_type": "markdown",
   "metadata": {},
   "source": [
    "## Task 1\n"
   ]
  },
  {
   "cell_type": "markdown",
   "metadata": {},
   "source": [
    "1. **Database Creation**"
   ]
  },
  {
   "cell_type": "code",
   "execution_count": 26,
   "metadata": {},
   "outputs": [
    {
     "data": {
      "text/plain": [
       "<sqlite3.Cursor at 0x1e96fb39dc0>"
      ]
     },
     "execution_count": 26,
     "metadata": {},
     "output_type": "execute_result"
    }
   ],
   "source": [
    "import sqlite3\n",
    "\n",
    "roster_conn = sqlite3.connect('roster.db')\n",
    "roster_cursor = roster_conn.cursor()\n",
    "\n",
    "# Define a table \"Roster\" with specified schema\n",
    "roster_cursor.execute('''\n",
    "CREATE TABLE Roster (\n",
    "    Name TEXT,\n",
    "    Species TEXT,\n",
    "    Age INTEGER\n",
    ")\n",
    "''')"
   ]
  },
  {
   "cell_type": "markdown",
   "metadata": {},
   "source": [
    "2. **Insert Data**"
   ]
  },
  {
   "cell_type": "code",
   "execution_count": 27,
   "metadata": {},
   "outputs": [
    {
     "data": {
      "text/plain": [
       "<sqlite3.Cursor at 0x1e96fb39dc0>"
      ]
     },
     "execution_count": 27,
     "metadata": {},
     "output_type": "execute_result"
    }
   ],
   "source": [
    "# Populate the Roster table with the specified entries.\n",
    "roster_cursor.executemany('''\n",
    "INSERT INTO Roster (Name, Species, Age) VALUES (?, ?, ?)\n",
    "''', [\n",
    "    ('Benjamin Sisko', 'Human', 40),\n",
    "    ('Jadzia Dax', 'Trill', 300),\n",
    "    ('Kira Nerys', 'Bajoran', 29)\n",
    "])"
   ]
  },
  {
   "cell_type": "markdown",
   "metadata": {},
   "source": [
    "3. **Update Data**"
   ]
  },
  {
   "cell_type": "code",
   "execution_count": 28,
   "metadata": {},
   "outputs": [
    {
     "data": {
      "text/plain": [
       "<sqlite3.Cursor at 0x1e96fb39dc0>"
      ]
     },
     "execution_count": 28,
     "metadata": {},
     "output_type": "execute_result"
    }
   ],
   "source": [
    "# Update the Name of Jadzia Dax to Ezri Dax.\n",
    "roster_cursor.execute('''\n",
    "UPDATE Roster SET Name = 'Ezri Dax' WHERE Name = 'Jadzia Dax'\n",
    "''')"
   ]
  },
  {
   "cell_type": "markdown",
   "metadata": {},
   "source": [
    "4. **Query Data**"
   ]
  },
  {
   "cell_type": "code",
   "execution_count": 29,
   "metadata": {},
   "outputs": [],
   "source": [
    "# Retrieve and display the Name and Age of all characters where the Species is Bajoran.\n",
    "roster_cursor.execute('''\n",
    "SELECT Name, Age FROM Roster WHERE Species = 'Bajoran'\n",
    "''')\n",
    "bajoran_characters = roster_cursor.fetchall()"
   ]
  },
  {
   "cell_type": "markdown",
   "metadata": {},
   "source": [
    "5. **Delete Data**"
   ]
  },
  {
   "cell_type": "code",
   "execution_count": 30,
   "metadata": {},
   "outputs": [
    {
     "data": {
      "text/plain": [
       "<sqlite3.Cursor at 0x1e96fb39dc0>"
      ]
     },
     "execution_count": 30,
     "metadata": {},
     "output_type": "execute_result"
    }
   ],
   "source": [
    "# Remove all characters aged over 100 years from the table.\n",
    "roster_cursor.execute('''\n",
    "DELETE FROM Roster WHERE Age > 100\n",
    "''')"
   ]
  },
  {
   "cell_type": "markdown",
   "metadata": {},
   "source": [
    "6. **Bonus Task**"
   ]
  },
  {
   "cell_type": "code",
   "execution_count": 31,
   "metadata": {},
   "outputs": [
    {
     "data": {
      "text/plain": [
       "<sqlite3.Cursor at 0x1e96fb39dc0>"
      ]
     },
     "execution_count": 31,
     "metadata": {},
     "output_type": "execute_result"
    }
   ],
   "source": [
    "# Add a new column called Rank to the Roster table.\n",
    "roster_cursor.execute('''\n",
    "ALTER TABLE Roster ADD COLUMN Rank TEXT\n",
    "''')\n",
    "\n",
    "# Update the data with specified Rank values.\n",
    "roster_cursor.executemany('''\n",
    "UPDATE Roster SET Rank = ? WHERE Name = ?\n",
    "''', [\n",
    "    ('Captain', 'Benjamin Sisko'),\n",
    "    ('Lieutenant', 'Ezri Dax'),\n",
    "    ('Major', 'Kira Nerys')\n",
    "])\n"
   ]
  },
  {
   "cell_type": "markdown",
   "metadata": {},
   "source": [
    "7. **Advanced Query**"
   ]
  },
  {
   "cell_type": "code",
   "execution_count": 32,
   "metadata": {},
   "outputs": [],
   "source": [
    "# Retrieve all characters sorted by their Age in descending order.\n",
    "roster_cursor.execute('''\n",
    "SELECT * FROM Roster ORDER BY Age DESC\n",
    "''')\n",
    "sorted_characters = roster_cursor.fetchall()"
   ]
  },
  {
   "cell_type": "code",
   "execution_count": 33,
   "metadata": {},
   "outputs": [
    {
     "name": "stdout",
     "output_type": "stream",
     "text": [
      "Bajoran Characters: [('Kira Nerys', 29)]\n",
      "Characters Sorted by Age: [('Benjamin Sisko', 'Human', 40, 'Captain'), ('Kira Nerys', 'Bajoran', 29, 'Major')]\n"
     ]
    }
   ],
   "source": [
    "# Commit changes and close the connection.\n",
    "roster_conn.commit()\n",
    "roster_conn.close()\n",
    "\n",
    "# Print results\n",
    "print(\"Bajoran Characters:\", bajoran_characters)\n",
    "print(\"Characters Sorted by Age:\", sorted_characters)"
   ]
  }
 ],
 "metadata": {
  "kernelspec": {
   "display_name": "Python 3",
   "language": "python",
   "name": "python3"
  },
  "language_info": {
   "codemirror_mode": {
    "name": "ipython",
    "version": 3
   },
   "file_extension": ".py",
   "mimetype": "text/x-python",
   "name": "python",
   "nbconvert_exporter": "python",
   "pygments_lexer": "ipython3",
   "version": "3.12.6"
  }
 },
 "nbformat": 4,
 "nbformat_minor": 2
}
