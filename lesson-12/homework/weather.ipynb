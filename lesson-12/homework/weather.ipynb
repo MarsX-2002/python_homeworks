{
 "cells": [
  {
   "cell_type": "markdown",
   "metadata": {},
   "source": [
    "## Task 1: Weather API\n",
    "   1. Use this url : https://openweathermap.org/\n",
    "   2. Use the `requests` library to fetch weather data for a specific city(ex. your hometown: Tashkent) and print relevant information (temperature, humidity, etc.)."
   ]
  },
  {
   "cell_type": "code",
   "execution_count": 1,
   "metadata": {},
   "outputs": [
    {
     "name": "stdout",
     "output_type": "stream",
     "text": [
      "City: Toshkent Shahri\n",
      "Weather: Clear sky\n",
      "Temperature: 9.8°C (Feels like 8.91°C)\n",
      "Humidity: 29%\n",
      "Wind Speed: 2.06 m/s\n"
     ]
    }
   ],
   "source": [
    "import requests\n",
    "from dotenv import load_dotenv\n",
    "import os\n",
    "\n",
    "# Load environment variables\n",
    "load_dotenv()\n",
    "api_key = os.getenv('WEATHER_API_KEY')\n",
    "\n",
    "if not api_key:\n",
    "    raise ValueError(\"API key is not set. Please set the API_KEY in your environment variables or .env file.\")\n",
    "\n",
    "def get_coordinates(city_name, api_key):\n",
    "    \"\"\"Fetch latitude and longitude for a given city name.\"\"\"\n",
    "    geo_url = f\"http://api.openweathermap.org/geo/1.0/direct?q={city_name}&appid={api_key}\"\n",
    "    response = requests.get(geo_url)\n",
    "    if response.status_code == 200:\n",
    "        data = response.json()\n",
    "        if data:\n",
    "            return data[0]['lat'], data[0]['lon']\n",
    "        else:\n",
    "            raise ValueError(\"City not found. Please check the city name.\")\n",
    "    else:\n",
    "        raise ValueError(f\"Error fetching coordinates: {response.status_code}, {response.text}\")\n",
    "\n",
    "def get_weather(lat, lon, api_key):\n",
    "    \"\"\"Fetch weather information for given latitude and longitude.\"\"\"\n",
    "    weather_url = f'https://api.openweathermap.org/data/2.5/weather?lat={lat}&lon={lon}&appid={api_key}&units=metric'\n",
    "    response = requests.get(weather_url)\n",
    "    if response.status_code == 200:\n",
    "        data = response.json()\n",
    "        return data\n",
    "    else:\n",
    "        raise ValueError(f\"Error fetching weather data: {response.status_code}, {response.text}\")\n",
    "\n",
    "def display_weather(data):\n",
    "    \"\"\"Display weather information in a readable format.\"\"\"\n",
    "    name = data['name']\n",
    "    weather = data['weather'][0]['description']\n",
    "    temp = data['main']['temp']\n",
    "    feels_like = data['main']['feels_like']\n",
    "    humidity = data['main']['humidity']\n",
    "    wind_speed = data['wind']['speed']\n",
    "\n",
    "    print(f\"City: {name}\")\n",
    "    print(f\"Weather: {weather.capitalize()}\")\n",
    "    print(f\"Temperature: {temp}°C (Feels like {feels_like}°C)\")\n",
    "    print(f\"Humidity: {humidity}%\")\n",
    "    print(f\"Wind Speed: {wind_speed} m/s\")\n",
    "\n",
    "# User input for city name\n",
    "city_name = input(\"Enter the city name: \")\n",
    "\n",
    "try:\n",
    "    lat, lon = get_coordinates(city_name, api_key)\n",
    "    weather_data = get_weather(lat, lon, api_key)\n",
    "    display_weather(weather_data)\n",
    "except ValueError as e:\n",
    "    print(e)\n"
   ]
  },
  {
   "cell_type": "markdown",
   "metadata": {},
   "source": []
  }
 ],
 "metadata": {
  "kernelspec": {
   "display_name": "Python 3",
   "language": "python",
   "name": "python3"
  },
  "language_info": {
   "codemirror_mode": {
    "name": "ipython",
    "version": 3
   },
   "file_extension": ".py",
   "mimetype": "text/x-python",
   "name": "python",
   "nbconvert_exporter": "python",
   "pygments_lexer": "ipython3",
   "version": "3.12.6"
  }
 },
 "nbformat": 4,
 "nbformat_minor": 2
}
