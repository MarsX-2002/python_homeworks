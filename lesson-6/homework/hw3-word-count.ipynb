{
 "cells": [
  {
   "cell_type": "markdown",
   "metadata": {},
   "source": [
    "### Task 3: **Word Frequency Counter**"
   ]
  },
  {
   "cell_type": "code",
   "execution_count": 1,
   "metadata": {},
   "outputs": [
    {
     "name": "stdout",
     "output_type": "stream",
     "text": [
      "Total words: 49\n",
      "Top 5 most common words:\n",
      "ai - 5 times\n",
      "vertical - 3 times\n",
      "and - 3 times\n",
      "agents - 2 times\n",
      "to - 2 times\n",
      "\n",
      "Report saved to 'word_count_report.txt'.\n",
      "\n"
     ]
    }
   ],
   "source": [
    "FILE_NAME = \"sample.txt\"\n",
    "REPORT_FILE = \"word_count_report.txt\"\n",
    "\n",
    "def create_sample_file():\n",
    "    \"\"\"Prompt user to create the sample file if it doesn't exist.\"\"\"\n",
    "    print(f\"'{FILE_NAME}' not found. Please create it.\")\n",
    "    content = input(\"Enter text for the file: \")\n",
    "    with open(FILE_NAME, \"w\") as file:\n",
    "        file.write(content)\n",
    "    print(f\"'{FILE_NAME}' has been created.\\n\")\n",
    "\n",
    "def clean_word(word):\n",
    "    \"\"\"Remove punctuation and convert word to lowercase.\"\"\"\n",
    "    result = \"\"\n",
    "    for char in word:\n",
    "        if char.isalnum() or char == \"'\":\n",
    "            result += char\n",
    "    return result.lower()\n",
    "\n",
    "def analyze_file():\n",
    "    \"\"\"Analyze the file and count word frequencies.\"\"\"\n",
    "    try:\n",
    "        with open(FILE_NAME, \"r\") as file:\n",
    "            content = file.read()\n",
    "\n",
    "        words = content.split()  # Split text into words\n",
    "        word_count = {}\n",
    "        for word in words:\n",
    "            cleaned = clean_word(word)\n",
    "            if cleaned:\n",
    "                if cleaned in word_count:\n",
    "                    word_count[cleaned] += 1\n",
    "                else:\n",
    "                    word_count[cleaned] = 1\n",
    "\n",
    "        total_words = sum(word_count.values())\n",
    "        top_words = sorted(word_count.items(), key=lambda x: x[1], reverse=True)[:5]\n",
    "\n",
    "        # Display results\n",
    "        print(f\"Total words: {total_words}\")\n",
    "        print(\"Top 5 most common words:\")\n",
    "        for word, count in top_words:\n",
    "            print(f\"{word} - {count} time{'s' if count > 1 else ''}\")\n",
    "        print()\n",
    "\n",
    "        # Save to report file\n",
    "        with open(REPORT_FILE, \"w\") as report:\n",
    "            report.write(\"Word Count Report\\n\")\n",
    "            report.write(f\"Total Words: {total_words}\\n\")\n",
    "            report.write(\"Top 5 Words:\\n\")\n",
    "            for word, count in top_words:\n",
    "                report.write(f\"{word} - {count}\\n\")\n",
    "\n",
    "        print(f\"Report saved to '{REPORT_FILE}'.\\n\")\n",
    "    except FileNotFoundError:\n",
    "        create_sample_file()\n",
    "        analyze_file()\n",
    "\n",
    "# call the function\n",
    "analyze_file()\n"
   ]
  },
  {
   "cell_type": "code",
   "execution_count": null,
   "metadata": {},
   "outputs": [],
   "source": []
  }
 ],
 "metadata": {
  "kernelspec": {
   "display_name": "Python 3",
   "language": "python",
   "name": "python3"
  },
  "language_info": {
   "codemirror_mode": {
    "name": "ipython",
    "version": 3
   },
   "file_extension": ".py",
   "mimetype": "text/x-python",
   "name": "python",
   "nbconvert_exporter": "python",
   "pygments_lexer": "ipython3",
   "version": "3.12.6"
  }
 },
 "nbformat": 4,
 "nbformat_minor": 2
}
