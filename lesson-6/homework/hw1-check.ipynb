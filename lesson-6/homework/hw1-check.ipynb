{
 "cells": [
  {
   "cell_type": "markdown",
   "metadata": {},
   "source": [
    "### Task 1: Zero Check Decorator"
   ]
  },
  {
   "cell_type": "code",
   "execution_count": 4,
   "metadata": {},
   "outputs": [
    {
     "name": "stdout",
     "output_type": "stream",
     "text": [
      "Output: 3.0\n",
      "Output: Denominator can't be zero\n"
     ]
    }
   ],
   "source": [
    "def check(func):\n",
    "    def wrapper(a, b):\n",
    "        if b == 0:\n",
    "            return \"Denominator can't be zero\"\n",
    "        return func(a, b)\n",
    "    return wrapper        \n",
    "\n",
    "@check\n",
    "def div(a, b):\n",
    "    return a / b\n",
    "\n",
    "print(f\"Output: {div(6, 2)}\")    \n",
    "\n",
    "print(f\"Output: {div(6, 0)}\")    "
   ]
  },
  {
   "cell_type": "markdown",
   "metadata": {},
   "source": []
  }
 ],
 "metadata": {
  "kernelspec": {
   "display_name": "Python 3",
   "language": "python",
   "name": "python3"
  },
  "language_info": {
   "codemirror_mode": {
    "name": "ipython",
    "version": 3
   },
   "file_extension": ".py",
   "mimetype": "text/x-python",
   "name": "python",
   "nbconvert_exporter": "python",
   "pygments_lexer": "ipython3",
   "version": "3.12.6"
  }
 },
 "nbformat": 4,
 "nbformat_minor": 2
}
