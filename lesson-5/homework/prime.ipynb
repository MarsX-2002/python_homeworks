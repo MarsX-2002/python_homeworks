{
 "cells": [
  {
   "cell_type": "markdown",
   "metadata": {},
   "source": [
    "### Task 5: prime.py"
   ]
  },
  {
   "cell_type": "code",
   "execution_count": 5,
   "metadata": {},
   "outputs": [
    {
     "name": "stdout",
     "output_type": "stream",
     "text": [
      "11 is prime: True\n"
     ]
    }
   ],
   "source": [
    "def is_prime(num):\n",
    "    \"\"\"check if given num is prime\"\"\"\n",
    "    if num < 2:\n",
    "        return False\n",
    "    # 2 is special case for even numbers\n",
    "    if num ==2:\n",
    "        return True\n",
    "    # even numbers are not prime\n",
    "    if num % 2 == 0:\n",
    "        return False\n",
    "    # enough to check till sqrt(num) and skip even numbers\n",
    "    for i in range(3, int(num**0.5) + 1, 2):\n",
    "        if num % i == 0:\n",
    "            return False\n",
    "    # if no devisors => prime\n",
    "    return True        \n",
    "\n",
    "user_num = int(input(\"enter positive integer:\"))\n",
    "print(f\"{user_num} is prime: {is_prime(user_num)}\")\n"
   ]
  },
  {
   "cell_type": "markdown",
   "metadata": {},
   "source": [
    "Using ```Sieve of Eratosthenes``` method to find all primes within a given range."
   ]
  },
  {
   "cell_type": "code",
   "execution_count": null,
   "metadata": {},
   "outputs": [],
   "source": []
  }
 ],
 "metadata": {
  "kernelspec": {
   "display_name": "Python 3",
   "language": "python",
   "name": "python3"
  },
  "language_info": {
   "codemirror_mode": {
    "name": "ipython",
    "version": 3
   },
   "file_extension": ".py",
   "mimetype": "text/x-python",
   "name": "python",
   "nbconvert_exporter": "python",
   "pygments_lexer": "ipython3",
   "version": "3.12.6"
  }
 },
 "nbformat": 4,
 "nbformat_minor": 2
}
