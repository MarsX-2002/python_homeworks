{
 "cells": [
  {
   "cell_type": "markdown",
   "metadata": {},
   "source": [
    "### Task 5: prime.py"
   ]
  },
  {
   "cell_type": "code",
   "execution_count": 5,
   "metadata": {},
   "outputs": [
    {
     "name": "stdout",
     "output_type": "stream",
     "text": [
      "11 is prime: True\n"
     ]
    }
   ],
   "source": [
    "def is_prime(num):\n",
    "    \"\"\"check if given num is prime\"\"\"\n",
    "    if num < 2:\n",
    "        return False\n",
    "    # 2 is special case for even numbers\n",
    "    if num ==2:\n",
    "        return True\n",
    "    # even numbers are not prime\n",
    "    if num % 2 == 0:\n",
    "        return False\n",
    "    # enough to check till sqrt(num) and skip even numbers\n",
    "    for i in range(3, int(num**0.5) + 1, 2):\n",
    "        if num % i == 0:\n",
    "            return False\n",
    "    # if no devisors => prime\n",
    "    return True        \n",
    "\n",
    "user_num = int(input(\"enter positive integer:\"))\n",
    "print(f\"{user_num} is prime: {is_prime(user_num)}\")\n"
   ]
  },
  {
   "cell_type": "markdown",
   "metadata": {},
   "source": [
    "Using ```Sieve of Eratosthenes``` method to find all primes within a given range."
   ]
  },
  {
   "cell_type": "code",
   "execution_count": 10,
   "metadata": {},
   "outputs": [
    {
     "name": "stdout",
     "output_type": "stream",
     "text": [
      "Primes less than 150:\n",
      "    2     3     5     7    11    13    17    19    23    29\n",
      "   31    37    41    43    47    53    59    61    67    71\n",
      "   73    79    83    89    97   101   103   107   109   113\n",
      "  127   131   137   139   149\n"
     ]
    }
   ],
   "source": [
    "# 1. create primes bool array of size num + 1, True by default\n",
    "# 2. mark 0, 1 as false\n",
    "# 3. iterate till sqrt(num) + 1 to find multiples \n",
    "# 4. mark each multiple of the divisor as false in the array\n",
    "# 5. return the list of numbers within num + 1 if primes[i] == True\n",
    "\n",
    "def sieve_of_eratosthenes(num):\n",
    "    # 1. list of True values\n",
    "    primes = [True] * (num + 1)\n",
    "    # 2. mark 0, 1 as false\n",
    "    primes[0] = primes[1] = False\n",
    "    # 3. iterate till sqrt(num) + 1 to find multiples\n",
    "    for i in range(2, int(num ** 0.5) + 1):\n",
    "        if primes[i]:\n",
    "            for j in range(i * i, num + 1, i):\n",
    "                primes[j] = False\n",
    "    return [i for i in range(2, num + 1) if primes[i]]\n",
    "\n",
    "\n",
    "def display_as_matrix(primes, cols=10):\n",
    "    \"\"\"\n",
    "    Displays the primes in a square-like matrix with a fixed number of columns.\n",
    "    \"\"\"\n",
    "    for i in range(0, len(primes), cols):\n",
    "        row = primes[i:i + cols]\n",
    "        print(\" \".join(f\"{p:5}\" for p in row))\n",
    "\n",
    "# Input from user\n",
    "user_num = int(input(\"Enter a positive integer: \"))\n",
    "primes = sieve_of_eratosthenes(user_num)\n",
    "\n",
    "# Display primes as a matrix\n",
    "print(f\"Primes less than {user_num}:\")\n",
    "display_as_matrix(primes, cols=10)"
   ]
  },
  {
   "cell_type": "code",
   "execution_count": null,
   "metadata": {},
   "outputs": [],
   "source": []
  }
 ],
 "metadata": {
  "kernelspec": {
   "display_name": "Python 3",
   "language": "python",
   "name": "python3"
  },
  "language_info": {
   "codemirror_mode": {
    "name": "ipython",
    "version": 3
   },
   "file_extension": ".py",
   "mimetype": "text/x-python",
   "name": "python",
   "nbconvert_exporter": "python",
   "pygments_lexer": "ipython3",
   "version": "3.12.6"
  }
 },
 "nbformat": 4,
 "nbformat_minor": 2
}
