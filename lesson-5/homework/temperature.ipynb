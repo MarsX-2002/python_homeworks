{
 "cells": [
  {
   "cell_type": "markdown",
   "metadata": {},
   "source": [
    "### Task 1: temperature.py"
   ]
  },
  {
   "cell_type": "code",
   "execution_count": 11,
   "metadata": {},
   "outputs": [
    {
     "name": "stdout",
     "output_type": "stream",
     "text": [
      "34.0 °F = 1.11  °C\n",
      "You did not enter number!\n"
     ]
    }
   ],
   "source": [
    "def convert_cel_to_far(cel):\n",
    "    \"\"\"F = C * 9/5 + 32\"\"\"\n",
    "    far = cel * (9/5) + 32\n",
    "    return far\n",
    "\n",
    "def convert_far_to_cel(far):\n",
    "    \"\"\"C = (F - 32) * 5/9\"\"\"\n",
    "    cel = (far - 32) * (5/9)    \n",
    "    return cel\n",
    "\n",
    "# handle cases if user input is not number\n",
    "try:\n",
    "    user_far = float(input(\"Enter a temperature in degrees °F: \"))\n",
    "    print(f\"{user_far} °F = {round(convert_far_to_cel(user_far), 2)}  °C\")\n",
    "except ValueError:\n",
    "    print(\"You did not enter number!\")\n",
    "\n",
    "try:\n",
    "    user_cel = float(input(\"Enter a temperature in degrees °C: \"))\n",
    "    print(f\"{user_cel} °C = {round(convert_cel_to_far(user_cel), 2)}  °F\")\n",
    "except ValueError:\n",
    "    print(\"You did not enter number!\")\n",
    "\n",
    "\n",
    "\n",
    "\n",
    "\n",
    "\n",
    "\n"
   ]
  },
  {
   "cell_type": "markdown",
   "metadata": {},
   "source": []
  }
 ],
 "metadata": {
  "kernelspec": {
   "display_name": "Python 3",
   "language": "python",
   "name": "python3"
  },
  "language_info": {
   "codemirror_mode": {
    "name": "ipython",
    "version": 3
   },
   "file_extension": ".py",
   "mimetype": "text/x-python",
   "name": "python",
   "nbconvert_exporter": "python",
   "pygments_lexer": "ipython3",
   "version": "3.12.6"
  }
 },
 "nbformat": 4,
 "nbformat_minor": 2
}
