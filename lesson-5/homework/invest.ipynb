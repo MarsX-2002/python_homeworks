{
 "cells": [
  {
   "cell_type": "markdown",
   "metadata": {},
   "source": [
    "### Task 2: invest.py"
   ]
  },
  {
   "cell_type": "code",
   "execution_count": null,
   "metadata": {},
   "outputs": [
    {
     "name": "stdout",
     "output_type": "stream",
     "text": [
      "year 1: $105.0\n",
      "year 2: $110.25\n",
      "year 3: $115.76\n",
      "year 4: $121.55\n"
     ]
    }
   ],
   "source": [
    "# prints profit for each year, returns None\n",
    "def invest(amount, rate, years):\n",
    "    \"\"\"amount = amount * (1 + rate / 100)\"\"\"\n",
    "    for year in range(1, years + 1):\n",
    "        amount = amount * (1 + rate / 100)\n",
    "        print(f\"year {year}: ${round(amount, 2)}\")\n",
    "\n",
    "# user inputs\n",
    "user_amount = int(input(\"enter amount ($): \"))      \n",
    "user_rate = int(input(\"enter rate (%): \"))      \n",
    "user_years = int(input(\"enter years: \"))      \n",
    "\n",
    "# function call\n",
    "invest(user_amount, user_rate, user_years)"
   ]
  },
  {
   "cell_type": "markdown",
   "metadata": {},
   "source": []
  }
 ],
 "metadata": {
  "kernelspec": {
   "display_name": "Python 3",
   "language": "python",
   "name": "python3"
  },
  "language_info": {
   "codemirror_mode": {
    "name": "ipython",
    "version": 3
   },
   "file_extension": ".py",
   "mimetype": "text/x-python",
   "name": "python",
   "nbconvert_exporter": "python",
   "pygments_lexer": "ipython3",
   "version": "3.12.6"
  }
 },
 "nbformat": 4,
 "nbformat_minor": 2
}
