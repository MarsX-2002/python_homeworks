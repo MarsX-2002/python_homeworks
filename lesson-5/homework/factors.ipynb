{
 "cells": [
  {
   "cell_type": "markdown",
   "metadata": {},
   "source": [
    "### Task 3: factors.py"
   ]
  },
  {
   "cell_type": "code",
   "execution_count": 6,
   "metadata": {},
   "outputs": [
    {
     "name": "stdout",
     "output_type": "stream",
     "text": [
      "1 is a factor of 12. 12 / 1 = 12\n",
      "2 is a factor of 12. 12 / 2 = 6\n",
      "3 is a factor of 12. 12 / 3 = 4\n",
      "4 is a factor of 12. 12 / 4 = 3\n",
      "6 is a factor of 12. 12 / 6 = 2\n",
      "12 is a factor of 12. 12 / 12 = 1\n"
     ]
    }
   ],
   "source": [
    "def factor(num):\n",
    "    \"\"\"\n",
    "    A factor of a positive integer n is any positive integer \n",
    "    less than or equal to n that divides n with no remainder.\n",
    "\n",
    "    For example, 3 is a factor of 12 because 12 divided by 3 is 4, \n",
    "    with no remainder. However, 5 is not a factor of 12 \n",
    "    because 5 goes into 12 twice with a remainder of 2.\n",
    "    \"\"\"\n",
    "    for i in range(1, num + 1):\n",
    "        if num % i == 0:\n",
    "            print(f\"{i} is a factor of {num}. {num} / {i} = {num // i}\")\n",
    "\n",
    "try:\n",
    "    user_num = int(input(\"enter positive integer: \"))\n",
    "    factor(user_num)\n",
    "except ValueError:\n",
    "    print(\"Invalid input. Please enter a positive integer.\")\n"
   ]
  },
  {
   "cell_type": "code",
   "execution_count": null,
   "metadata": {},
   "outputs": [],
   "source": []
  }
 ],
 "metadata": {
  "kernelspec": {
   "display_name": "Python 3",
   "language": "python",
   "name": "python3"
  },
  "language_info": {
   "codemirror_mode": {
    "name": "ipython",
    "version": 3
   },
   "file_extension": ".py",
   "mimetype": "text/x-python",
   "name": "python",
   "nbconvert_exporter": "python",
   "pygments_lexer": "ipython3",
   "version": "3.12.6"
  }
 },
 "nbformat": 4,
 "nbformat_minor": 2
}
