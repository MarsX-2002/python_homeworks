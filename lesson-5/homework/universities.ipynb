{
 "cells": [
  {
   "cell_type": "markdown",
   "metadata": {},
   "source": [
    "### Task 4: universities.py"
   ]
  },
  {
   "cell_type": "code",
   "execution_count": 28,
   "metadata": {},
   "outputs": [
    {
     "name": "stdout",
     "output_type": "stream",
     "text": [
      "******************************\n",
      "Total students: 77,285\n",
      "Total tuition: $271,905\n",
      "\n",
      "Student mean: 11,040.71\n",
      "Student median: 10,566.00\n",
      "\n",
      "Tuition mean: $38,843.57\n",
      "Tuition median: $39,849.00\n",
      "******************************\n"
     ]
    }
   ],
   "source": [
    "universities = [\n",
    "    ['California Institute of Technology', 2175, 37704],\n",
    "    ['Harvard', 19627, 39849],\n",
    "    ['Massachusetts Institute of Technology', 10566, 40732],\n",
    "    ['Princeton', 7802, 37000],\n",
    "    ['Rice', 5879, 35551],\n",
    "    ['Stanford', 19535, 40569],\n",
    "    ['Yale', 11701, 40500]\n",
    "]\n",
    "\n",
    "def enrollment_stats(universities):\n",
    "    \"\"\"\n",
    "    takes:\n",
    "    [\n",
    "        ['university', 'enrollment', 'tuition'],\n",
    "        ['university', 'enrollment', 'tuition'],\n",
    "        ['university', 'enrollment', 'tuition']\n",
    "    ]\n",
    "    return: tuple([enrolment_list], [tuition_list])\n",
    "    \"\"\"\n",
    "\n",
    "    enrollment_list = [university[1] for university in universities]\n",
    "    tuition_list = [university[2] for university in universities]\n",
    "\n",
    "    return tuple((enrollment_list, tuition_list))\n",
    "\n",
    "# mean = average value of set of values\n",
    "def mean(single_list):\n",
    "    \"\"\"\n",
    "    takes: []\n",
    "    return: mean value\n",
    "\n",
    "    mean = sum / len\n",
    "    \"\"\"\n",
    "    mean_value = sum(single_list) / len(single_list) \n",
    "\n",
    "    return mean_value\n",
    "\n",
    "# median = middle value in sorted list\n",
    "# if odd len: middle element\n",
    "# if even len: average of two middle elements\n",
    "def median(single_list):\n",
    "    \"\"\"\n",
    "    takes: []\n",
    "    return: median value\n",
    "    \"\"\"\n",
    "    sorted_list = sorted(single_list)  # returns list\n",
    "    mid = len(sorted_list) // 2 \n",
    "    #                      even                                                         odd\n",
    "    median_value = mean(sorted_list[mid - 1:mid + 1]) if len(sorted_list) % 2 == 0 else sorted_list[mid]\n",
    "    return median_value\n",
    "# [1, 2, 3, 4, 5, 6] => median = (3 + 4) / 2 = 3.5\n",
    "\n",
    "print('*' * 30)\n",
    "\n",
    "# tuple unpacking\n",
    "total_students, total_tuition = enrollment_stats(universities)\n",
    "print(f\"Total students: {sum(total_students):,}\")\n",
    "print(f\"Total tuition: ${sum(total_tuition):,}\")\n",
    "\n",
    "# mean stats\n",
    "student_mean = mean(total_students)\n",
    "tuition_mean = mean(total_tuition)\n",
    "\n",
    "\n",
    "# median stats\n",
    "student_median = median(total_students)\n",
    "tuition_median = median(total_tuition)\n",
    "\n",
    "print()\n",
    "\n",
    "# print student stats\n",
    "print(f\"Student mean: {student_mean:,.2f}\")\n",
    "print(f\"Student median: {student_median:,.2f}\")\n",
    "\n",
    "print()\n",
    "\n",
    "# print tuition stats\n",
    "\n",
    "print(f\"Tuition mean: ${tuition_mean:,.2f}\")\n",
    "print(f\"Tuition median: ${tuition_median:,.2f}\")\n",
    "\n",
    "print('*' * 30)\n"
   ]
  },
  {
   "cell_type": "code",
   "execution_count": 30,
   "metadata": {},
   "outputs": [
    {
     "name": "stdout",
     "output_type": "stream",
     "text": [
      "[1, 3, 4]\n"
     ]
    },
    {
     "ename": "",
     "evalue": "",
     "output_type": "error",
     "traceback": [
      "\u001b[1;31mThe Kernel crashed while executing code in the current cell or a previous cell. \n",
      "\u001b[1;31mPlease review the code in the cell(s) to identify a possible cause of the failure. \n",
      "\u001b[1;31mClick <a href='https://aka.ms/vscodeJupyterKernelCrash'>here</a> for more info. \n",
      "\u001b[1;31mView Jupyter <a href='command:jupyter.viewOutput'>log</a> for further details."
     ]
    }
   ],
   "source": [
    "# single = [3, 1, 4]\n",
    "# print(sorted(single))\n",
    "# sorted() returns list"
   ]
  },
  {
   "cell_type": "code",
   "execution_count": null,
   "metadata": {},
   "outputs": [],
   "source": []
  }
 ],
 "metadata": {
  "kernelspec": {
   "display_name": "Python 3",
   "language": "python",
   "name": "python3"
  },
  "language_info": {
   "codemirror_mode": {
    "name": "ipython",
    "version": 3
   },
   "file_extension": ".py",
   "mimetype": "text/x-python",
   "name": "python",
   "nbconvert_exporter": "python",
   "pygments_lexer": "ipython3",
   "version": "3.12.6"
  }
 },
 "nbformat": 4,
 "nbformat_minor": 2
}
