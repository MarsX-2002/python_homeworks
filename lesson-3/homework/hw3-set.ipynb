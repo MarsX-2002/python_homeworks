{
 "cells": [
  {
   "cell_type": "markdown",
   "metadata": {},
   "source": [
    "Set tasks"
   ]
  },
  {
   "cell_type": "markdown",
   "metadata": {},
   "source": [
    "1. **Union of Sets**"
   ]
  },
  {
   "cell_type": "code",
   "execution_count": 1,
   "metadata": {},
   "outputs": [
    {
     "name": "stdout",
     "output_type": "stream",
     "text": [
      "union set: {1, 2, 3, 4}\n"
     ]
    }
   ],
   "source": [
    "set_a = {1, 2, 3}\n",
    "set_b = {1, 4, 3}\n",
    "\n",
    "union_set = set_a.union(set_b)\n",
    "\n",
    "print(f\"union set: {union_set}\")"
   ]
  },
  {
   "cell_type": "markdown",
   "metadata": {},
   "source": [
    "2. **Intersection of Sets**"
   ]
  },
  {
   "cell_type": "code",
   "execution_count": 2,
   "metadata": {},
   "outputs": [
    {
     "name": "stdout",
     "output_type": "stream",
     "text": [
      "intersection set: {1, 3}\n"
     ]
    }
   ],
   "source": [
    "set_a = {1, 2, 3}\n",
    "set_b = {1, 4, 3}\n",
    "\n",
    "intersection_set = set_a.intersection(set_b)\n",
    "\n",
    "print(f\"intersection set: {intersection_set}\")"
   ]
  },
  {
   "cell_type": "code",
   "execution_count": 4,
   "metadata": {},
   "outputs": [
    {
     "name": "stdout",
     "output_type": "stream",
     "text": [
      "difference set: {2}\n"
     ]
    }
   ],
   "source": [
    "set_a = {1, 2, 3}\n",
    "set_b = {1, 4, 3}\n",
    "\n",
    "difference_set = set_a.difference(set_b)\n",
    "\n",
    "print(f\"difference set: {difference_set}\")"
   ]
  },
  {
   "cell_type": "markdown",
   "metadata": {},
   "source": [
    "4. **Check Subset**"
   ]
  },
  {
   "cell_type": "code",
   "execution_count": 6,
   "metadata": {},
   "outputs": [
    {
     "name": "stdout",
     "output_type": "stream",
     "text": [
      "is {1, 3} subset of {1, 2, 3}: True\n"
     ]
    }
   ],
   "source": [
    "set_a = {1, 2, 3}\n",
    "set_b = {1, 3}\n",
    "\n",
    "is_subset = set_b.issubset(set_a)\n",
    "\n",
    "print(f\"is {set_b} subset of {set_a}: {is_subset}\")"
   ]
  },
  {
   "cell_type": "markdown",
   "metadata": {},
   "source": [
    "5. **Check Element**"
   ]
  },
  {
   "cell_type": "code",
   "execution_count": 7,
   "metadata": {},
   "outputs": [
    {
     "name": "stdout",
     "output_type": "stream",
     "text": [
      "is 3 present in {1, 3, 5, 7}: True\n"
     ]
    }
   ],
   "source": [
    "num_set = {1, 3, 5, 7}\n",
    "num = 3\n",
    "\n",
    "is_present = num in num_set\n",
    "\n",
    "print(f\"is {num} present in {num_set}: {is_present}\")"
   ]
  },
  {
   "cell_type": "markdown",
   "metadata": {},
   "source": [
    "6. **Set Length**"
   ]
  },
  {
   "cell_type": "code",
   "execution_count": 10,
   "metadata": {},
   "outputs": [
    {
     "name": "stdout",
     "output_type": "stream",
     "text": [
      "unique numbers set length: 3\n"
     ]
    }
   ],
   "source": [
    "numbers_set = {1, 1, 2, 3, 3}\n",
    "\n",
    "set_length = len(numbers_set)\n",
    "\n",
    "print(f\"unique numbers set length: {set_length}\")"
   ]
  },
  {
   "cell_type": "markdown",
   "metadata": {},
   "source": [
    "7. **Convert List to Set**"
   ]
  },
  {
   "cell_type": "code",
   "execution_count": 11,
   "metadata": {},
   "outputs": [
    {
     "name": "stdout",
     "output_type": "stream",
     "text": [
      "numbers set: {1, 2, 3}\n"
     ]
    }
   ],
   "source": [
    "numbers_7 = [1, 2, 2, 3, 3, 3]\n",
    "numbers_set = set(numbers_7)\n",
    "\n",
    "print(f\"numbers set: {numbers_set}\")"
   ]
  },
  {
   "cell_type": "markdown",
   "metadata": {},
   "source": [
    "8. **Remove Element**"
   ]
  },
  {
   "cell_type": "code",
   "execution_count": 13,
   "metadata": {},
   "outputs": [
    {
     "name": "stdout",
     "output_type": "stream",
     "text": [
      "3 removed: {1, 2}\n"
     ]
    }
   ],
   "source": [
    "numbers_8 = {1, 2, 2, 3, 3, 3}\n",
    "num = 3\n",
    "\n",
    "numbers_8.discard(num)\n",
    "\n",
    "print(f\"{num} removed: {numbers_8}\")"
   ]
  },
  {
   "cell_type": "markdown",
   "metadata": {},
   "source": [
    "9. **Clear Set**"
   ]
  },
  {
   "cell_type": "code",
   "execution_count": 15,
   "metadata": {},
   "outputs": [
    {
     "name": "stdout",
     "output_type": "stream",
     "text": [
      "before: {'Anna', 'John'}\n",
      "after: set()\n"
     ]
    }
   ],
   "source": [
    "names ={\"John\", \"John\", \"Anna\"}\n",
    "names_copy = names.copy()\n",
    "\n",
    "names.clear()\n",
    "\n",
    "print(f\"before: {names_copy}\\nafter: {names}\")"
   ]
  },
  {
   "cell_type": "markdown",
   "metadata": {},
   "source": [
    "10. **Check if Set is Empty**"
   ]
  },
  {
   "cell_type": "code",
   "execution_count": 19,
   "metadata": {},
   "outputs": [
    {
     "name": "stdout",
     "output_type": "stream",
     "text": [
      "is {} empty: True\n"
     ]
    }
   ],
   "source": [
    "nums_set = {}\n",
    "\n",
    "is_empty = not bool(nums_set)\n",
    "\n",
    "print(f\"is {nums_set} empty: {is_empty}\")  "
   ]
  },
  {
   "cell_type": "code",
   "execution_count": null,
   "metadata": {},
   "outputs": [],
   "source": []
  }
 ],
 "metadata": {
  "kernelspec": {
   "display_name": "Python 3",
   "language": "python",
   "name": "python3"
  },
  "language_info": {
   "codemirror_mode": {
    "name": "ipython",
    "version": 3
   },
   "file_extension": ".py",
   "mimetype": "text/x-python",
   "name": "python",
   "nbconvert_exporter": "python",
   "pygments_lexer": "ipython3",
   "version": "3.12.6"
  }
 },
 "nbformat": 4,
 "nbformat_minor": 2
}
