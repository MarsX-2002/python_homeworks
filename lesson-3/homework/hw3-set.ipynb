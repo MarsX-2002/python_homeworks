{
 "cells": [
  {
   "cell_type": "markdown",
   "metadata": {},
   "source": [
    "Set tasks"
   ]
  },
  {
   "cell_type": "markdown",
   "metadata": {},
   "source": [
    "1. **Union of Sets**"
   ]
  },
  {
   "cell_type": "code",
   "execution_count": 1,
   "metadata": {},
   "outputs": [
    {
     "name": "stdout",
     "output_type": "stream",
     "text": [
      "union set: {1, 2, 3, 4}\n"
     ]
    }
   ],
   "source": [
    "set_a = {1, 2, 3}\n",
    "set_b = {1, 4, 3}\n",
    "\n",
    "union_set = set_a.union(set_b)\n",
    "\n",
    "print(f\"union set: {union_set}\")"
   ]
  },
  {
   "cell_type": "markdown",
   "metadata": {},
   "source": [
    "2. **Intersection of Sets**"
   ]
  },
  {
   "cell_type": "code",
   "execution_count": 2,
   "metadata": {},
   "outputs": [
    {
     "name": "stdout",
     "output_type": "stream",
     "text": [
      "intersection set: {1, 3}\n"
     ]
    }
   ],
   "source": [
    "set_a = {1, 2, 3}\n",
    "set_b = {1, 4, 3}\n",
    "\n",
    "intersection_set = set_a.intersection(set_b)\n",
    "\n",
    "print(f\"intersection set: {intersection_set}\")"
   ]
  },
  {
   "cell_type": "code",
   "execution_count": 4,
   "metadata": {},
   "outputs": [
    {
     "name": "stdout",
     "output_type": "stream",
     "text": [
      "difference set: {2}\n"
     ]
    }
   ],
   "source": [
    "set_a = {1, 2, 3}\n",
    "set_b = {1, 4, 3}\n",
    "\n",
    "difference_set = set_a.difference(set_b)\n",
    "\n",
    "print(f\"difference set: {difference_set}\")"
   ]
  },
  {
   "cell_type": "markdown",
   "metadata": {},
   "source": [
    "4. **Check Subset**"
   ]
  },
  {
   "cell_type": "code",
   "execution_count": 6,
   "metadata": {},
   "outputs": [
    {
     "name": "stdout",
     "output_type": "stream",
     "text": [
      "is {1, 3} subset of {1, 2, 3}: True\n"
     ]
    }
   ],
   "source": [
    "set_a = {1, 2, 3}\n",
    "set_b = {1, 3}\n",
    "\n",
    "is_subset = set_b.issubset(set_a)\n",
    "\n",
    "print(f\"is {set_b} subset of {set_a}: {is_subset}\")"
   ]
  },
  {
   "cell_type": "markdown",
   "metadata": {},
   "source": [
    "5. **Check Element**"
   ]
  },
  {
   "cell_type": "code",
   "execution_count": 7,
   "metadata": {},
   "outputs": [
    {
     "name": "stdout",
     "output_type": "stream",
     "text": [
      "is 3 present in {1, 3, 5, 7}: True\n"
     ]
    }
   ],
   "source": [
    "num_set = {1, 3, 5, 7}\n",
    "num = 3\n",
    "\n",
    "is_present = num in num_set\n",
    "\n",
    "print(f\"is {num} present in {num_set}: {is_present}\")"
   ]
  },
  {
   "cell_type": "markdown",
   "metadata": {},
   "source": [
    "6. **Set Length**"
   ]
  },
  {
   "cell_type": "code",
   "execution_count": 10,
   "metadata": {},
   "outputs": [
    {
     "name": "stdout",
     "output_type": "stream",
     "text": [
      "unique numbers set length: 3\n"
     ]
    }
   ],
   "source": [
    "numbers_set = {1, 1, 2, 3, 3}\n",
    "\n",
    "set_length = len(numbers_set)\n",
    "\n",
    "print(f\"unique numbers set length: {set_length}\")"
   ]
  },
  {
   "cell_type": "markdown",
   "metadata": {},
   "source": [
    "7. **Convert List to Set**"
   ]
  },
  {
   "cell_type": "code",
   "execution_count": 11,
   "metadata": {},
   "outputs": [
    {
     "name": "stdout",
     "output_type": "stream",
     "text": [
      "numbers set: {1, 2, 3}\n"
     ]
    }
   ],
   "source": [
    "numbers_7 = [1, 2, 2, 3, 3, 3]\n",
    "numbers_set = set(numbers_7)\n",
    "\n",
    "print(f\"numbers set: {numbers_set}\")"
   ]
  },
  {
   "cell_type": "markdown",
   "metadata": {},
   "source": [
    "8. **Remove Element**"
   ]
  },
  {
   "cell_type": "code",
   "execution_count": 13,
   "metadata": {},
   "outputs": [
    {
     "name": "stdout",
     "output_type": "stream",
     "text": [
      "3 removed: {1, 2}\n"
     ]
    }
   ],
   "source": [
    "numbers_8 = {1, 2, 2, 3, 3, 3}\n",
    "num = 3\n",
    "\n",
    "numbers_8.discard(num)\n",
    "\n",
    "print(f\"{num} removed: {numbers_8}\")"
   ]
  },
  {
   "cell_type": "markdown",
   "metadata": {},
   "source": [
    "9. **Clear Set**"
   ]
  },
  {
   "cell_type": "code",
   "execution_count": 15,
   "metadata": {},
   "outputs": [
    {
     "name": "stdout",
     "output_type": "stream",
     "text": [
      "before: {'Anna', 'John'}\n",
      "after: set()\n"
     ]
    }
   ],
   "source": [
    "names ={\"John\", \"John\", \"Anna\"}\n",
    "names_copy = names.copy()\n",
    "\n",
    "names.clear()\n",
    "\n",
    "print(f\"before: {names_copy}\\nafter: {names}\")"
   ]
  },
  {
   "cell_type": "markdown",
   "metadata": {},
   "source": [
    "10. **Check if Set is Empty**"
   ]
  },
  {
   "cell_type": "code",
   "execution_count": 19,
   "metadata": {},
   "outputs": [
    {
     "name": "stdout",
     "output_type": "stream",
     "text": [
      "is {} empty: True\n"
     ]
    }
   ],
   "source": [
    "nums_set = {}\n",
    "\n",
    "is_empty = not bool(nums_set)\n",
    "\n",
    "print(f\"is {nums_set} empty: {is_empty}\")  "
   ]
  },
  {
   "cell_type": "markdown",
   "metadata": {},
   "source": [
    "11. **Symmetric Difference**"
   ]
  },
  {
   "cell_type": "code",
   "execution_count": 20,
   "metadata": {},
   "outputs": [
    {
     "name": "stdout",
     "output_type": "stream",
     "text": [
      "symmetric_difference: {2, 4}\n"
     ]
    }
   ],
   "source": [
    "set_a = {1, 2, 3}\n",
    "set_b = {1, 4, 3}\n",
    "\n",
    "symmetric_dif = set_a.symmetric_difference(set_b)\n",
    "\n",
    "print(f\"symmetric_difference: {symmetric_dif}\")"
   ]
  },
  {
   "cell_type": "markdown",
   "metadata": {},
   "source": [
    "12. **Add Element**"
   ]
  },
  {
   "cell_type": "code",
   "execution_count": 21,
   "metadata": {},
   "outputs": [
    {
     "name": "stdout",
     "output_type": "stream",
     "text": [
      "{1, 2, 3, 5}\n"
     ]
    }
   ],
   "source": [
    "nums_set = {1, 2, 3}\n",
    "num = 5\n",
    "\n",
    "nums_set.add(num)\n",
    "\n",
    "print(f\"{nums_set}\")"
   ]
  },
  {
   "cell_type": "markdown",
   "metadata": {},
   "source": [
    "13. **Pop Element**"
   ]
  },
  {
   "cell_type": "code",
   "execution_count": 26,
   "metadata": {},
   "outputs": [
    {
     "name": "stdout",
     "output_type": "stream",
     "text": [
      "1 removed from {2, 3, 4, 5, 7}\n"
     ]
    }
   ],
   "source": [
    "nums_set = {7, 1, 2, 3, 5, 4, 4}\n",
    "\n",
    "x = nums_set.pop()\n",
    "\n",
    "print(f\"{x} removed from {nums_set}\")"
   ]
  },
  {
   "cell_type": "markdown",
   "metadata": {},
   "source": [
    "14. **Find Maximum**"
   ]
  },
  {
   "cell_type": "code",
   "execution_count": 27,
   "metadata": {},
   "outputs": [
    {
     "name": "stdout",
     "output_type": "stream",
     "text": [
      "max num in {1, 2, 3, 4, 5, 7}: 7\n"
     ]
    }
   ],
   "source": [
    "nums_set = {7, 1, 2, 3, 5, 4, 4}\n",
    "\n",
    "max_num = max(nums_set)\n",
    "\n",
    "print(f\"max num in {nums_set}: {max_num}\")"
   ]
  },
  {
   "cell_type": "markdown",
   "metadata": {},
   "source": [
    "15. **Find Minimum**"
   ]
  },
  {
   "cell_type": "code",
   "execution_count": 28,
   "metadata": {},
   "outputs": [
    {
     "name": "stdout",
     "output_type": "stream",
     "text": [
      "min num in {1, 2, 3, 4, 5, 7}: 1\n"
     ]
    }
   ],
   "source": [
    "nums_set = {7, 1, 2, 3, 5, 4, 4}\n",
    "\n",
    "min_num = min(nums_set)\n",
    "\n",
    "print(f\"min num in {nums_set}: {min_num}\")"
   ]
  },
  {
   "cell_type": "markdown",
   "metadata": {},
   "source": [
    "16. **Filter Even Numbers**"
   ]
  },
  {
   "cell_type": "code",
   "execution_count": 30,
   "metadata": {},
   "outputs": [
    {
     "name": "stdout",
     "output_type": "stream",
     "text": [
      "even numbers: {2, 4}\n"
     ]
    }
   ],
   "source": [
    "nums_set = {7, 1, 2, 3, 5, 4, 4}\n",
    "\n",
    "even_set = set([num for num in nums_set if num % 2 == 0])\n",
    "\n",
    "print(f\"even numbers: {even_set}\")"
   ]
  },
  {
   "cell_type": "markdown",
   "metadata": {},
   "source": [
    "17. **Filter Odd Numbers**"
   ]
  },
  {
   "cell_type": "code",
   "execution_count": 31,
   "metadata": {},
   "outputs": [
    {
     "name": "stdout",
     "output_type": "stream",
     "text": [
      "odd numbers: {1, 3, 5, 7}\n"
     ]
    }
   ],
   "source": [
    "nums_set = {7, 1, 2, 3, 5, 4, 4}\n",
    "\n",
    "odd_set = set([num for num in nums_set if num % 2 != 0])\n",
    "\n",
    "print(f\"odd numbers: {odd_set}\")"
   ]
  },
  {
   "cell_type": "markdown",
   "metadata": {},
   "source": [
    "18. **Create a Set of a Range**"
   ]
  },
  {
   "cell_type": "code",
   "execution_count": 32,
   "metadata": {},
   "outputs": [
    {
     "name": "stdout",
     "output_type": "stream",
     "text": [
      "{1, 2, 3, 4, 5, 6, 7, 8, 9, 10}\n"
     ]
    }
   ],
   "source": [
    "start = 1\n",
    "end = 10\n",
    "\n",
    "range_set = set([i for i in range(start, end + 1)])\n",
    "\n",
    "print(range_set)"
   ]
  },
  {
   "cell_type": "markdown",
   "metadata": {},
   "source": [
    "19. **Merge and Deduplicate**"
   ]
  },
  {
   "cell_type": "code",
   "execution_count": 34,
   "metadata": {},
   "outputs": [
    {
     "name": "stdout",
     "output_type": "stream",
     "text": [
      "{1, 2, 3, 4, 5, 6}\n"
     ]
    }
   ],
   "source": [
    "list_a = [1, 3, 3, 5, 5, 5]\n",
    "list_b = [2, 4, 4, 6, 6, 6]\n",
    "\n",
    "new_set = set(list_a + list_b)\n",
    "\n",
    "print(new_set)"
   ]
  },
  {
   "cell_type": "markdown",
   "metadata": {},
   "source": [
    "20. **Check Disjoint Sets**"
   ]
  },
  {
   "cell_type": "code",
   "execution_count": 36,
   "metadata": {},
   "outputs": [
    {
     "name": "stdout",
     "output_type": "stream",
     "text": [
      "are {1, 3, 5} and {2, 4, 6} disjoint? True\n"
     ]
    }
   ],
   "source": [
    "set_a = {1, 3, 5}\n",
    "set_b = {2, 4, 6}\n",
    "\n",
    "disjoint_set = len(set_a & set_b)\n",
    "\n",
    "print(f\"are {set_a} and {set_b} disjoint? {disjoint_set == 0}\")"
   ]
  },
  {
   "cell_type": "markdown",
   "metadata": {},
   "source": [
    "21. **Remove Duplicates from a List**"
   ]
  },
  {
   "cell_type": "code",
   "execution_count": 39,
   "metadata": {},
   "outputs": [
    {
     "name": "stdout",
     "output_type": "stream",
     "text": [
      "no duplicates (sorted): [1, 2, 3, 5, 7]\n"
     ]
    }
   ],
   "source": [
    "num_list = [7, 7, 1, 2, 2, 5, 5, 3]\n",
    "\n",
    "removed_duplicates = list(set(num_list))\n",
    "\n",
    "print(f\"no duplicates (sorted): {removed_duplicates}\")"
   ]
  },
  {
   "cell_type": "markdown",
   "metadata": {},
   "source": [
    "22. **Count Unique Elements**"
   ]
  },
  {
   "cell_type": "code",
   "execution_count": 40,
   "metadata": {},
   "outputs": [
    {
     "name": "stdout",
     "output_type": "stream",
     "text": [
      "unique nums: 5\n"
     ]
    }
   ],
   "source": [
    "num_list = [7, 7, 1, 2, 2, 5, 5, 3]\n",
    "\n",
    "count_unique = len(set(num_list))\n",
    "\n",
    "print(f\"unique nums: {count_unique}\")"
   ]
  },
  {
   "cell_type": "markdown",
   "metadata": {},
   "source": [
    "23. **Generate Random Set**"
   ]
  },
  {
   "cell_type": "code",
   "execution_count": 45,
   "metadata": {},
   "outputs": [
    {
     "name": "stdout",
     "output_type": "stream",
     "text": [
      "ok\n",
      "{2, 5, 6, 8, 10}\n"
     ]
    }
   ],
   "source": [
    "import random\n",
    "\n",
    "start = 1\n",
    "end = 10\n",
    "size = 5\n",
    "\n",
    "random_set = set([random.randint(start, end) for _ in range(size)])\n",
    "\n",
    "print(\"ok\")\n",
    "print(random_set)"
   ]
  }
 ],
 "metadata": {
  "kernelspec": {
   "display_name": "Python 3",
   "language": "python",
   "name": "python3"
  },
  "language_info": {
   "codemirror_mode": {
    "name": "ipython",
    "version": 3
   },
   "file_extension": ".py",
   "mimetype": "text/x-python",
   "name": "python",
   "nbconvert_exporter": "python",
   "pygments_lexer": "ipython3",
   "version": "3.12.6"
  }
 },
 "nbformat": 4,
 "nbformat_minor": 2
}
