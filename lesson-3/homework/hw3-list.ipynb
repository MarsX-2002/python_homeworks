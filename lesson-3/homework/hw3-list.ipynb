{
 "cells": [
  {
   "cell_type": "markdown",
   "metadata": {},
   "source": [
    "List Tasks"
   ]
  },
  {
   "cell_type": "code",
   "execution_count": 19,
   "metadata": {},
   "outputs": [],
   "source": [
    "# example list\n",
    "numbers = [1, 2, 3, 4, 5, 3, 3, 4]"
   ]
  },
  {
   "cell_type": "markdown",
   "metadata": {},
   "source": [
    "1. **Count Occurrences**"
   ]
  },
  {
   "cell_type": "code",
   "execution_count": 20,
   "metadata": {},
   "outputs": [
    {
     "name": "stdout",
     "output_type": "stream",
     "text": [
      "3 appears 3 times\n"
     ]
    }
   ],
   "source": [
    "element = 3\n",
    "\n",
    "x = numbers.count(element)\n",
    "print(f\"{element} appears {x} times\")"
   ]
  },
  {
   "cell_type": "markdown",
   "metadata": {},
   "source": [
    "2. **Sum of Elements**"
   ]
  },
  {
   "cell_type": "code",
   "execution_count": 21,
   "metadata": {},
   "outputs": [
    {
     "name": "stdout",
     "output_type": "stream",
     "text": [
      "sum of list: 25\n"
     ]
    }
   ],
   "source": [
    "sum_list = sum(numbers)\n",
    "\n",
    "print(f\"sum of list: {sum_list}\")"
   ]
  },
  {
   "cell_type": "markdown",
   "metadata": {},
   "source": [
    "3. **Max Element**"
   ]
  },
  {
   "cell_type": "code",
   "execution_count": 22,
   "metadata": {},
   "outputs": [
    {
     "name": "stdout",
     "output_type": "stream",
     "text": [
      "largest element: 5\n"
     ]
    }
   ],
   "source": [
    "largest = max(numbers)\n",
    "\n",
    "print(f\"largest element: {largest}\")"
   ]
  },
  {
   "cell_type": "markdown",
   "metadata": {},
   "source": [
    "4. **Min Element**"
   ]
  },
  {
   "cell_type": "code",
   "execution_count": 23,
   "metadata": {},
   "outputs": [
    {
     "name": "stdout",
     "output_type": "stream",
     "text": [
      "smallest element: 1\n"
     ]
    }
   ],
   "source": [
    "smallest = min(numbers)\n",
    "\n",
    "print(f\"smallest element: {smallest}\")"
   ]
  },
  {
   "cell_type": "markdown",
   "metadata": {},
   "source": [
    "5. **Check Element**"
   ]
  },
  {
   "cell_type": "code",
   "execution_count": 24,
   "metadata": {},
   "outputs": [
    {
     "name": "stdout",
     "output_type": "stream",
     "text": [
      "7 present in list: False\n"
     ]
    }
   ],
   "source": [
    "element5 = 7\n",
    "\n",
    "check_present = element5 in numbers\n",
    "\n",
    "print(f\"{element5} present in list: {check_present}\")"
   ]
  },
  {
   "cell_type": "markdown",
   "metadata": {},
   "source": [
    "6. **First Element**"
   ]
  },
  {
   "cell_type": "code",
   "execution_count": 25,
   "metadata": {},
   "outputs": [
    {
     "name": "stdout",
     "output_type": "stream",
     "text": [
      "first element: hi\n"
     ]
    }
   ],
   "source": [
    "list6 = [\"hi\", 3]\n",
    "\n",
    "first_element = list6[0] if list6 else None\n",
    "\n",
    "print(f\"first element: {first_element}\")"
   ]
  },
  {
   "cell_type": "markdown",
   "metadata": {},
   "source": [
    "7. **Last Element**"
   ]
  },
  {
   "cell_type": "code",
   "execution_count": 26,
   "metadata": {},
   "outputs": [
    {
     "name": "stdout",
     "output_type": "stream",
     "text": [
      "last element: None\n"
     ]
    }
   ],
   "source": [
    "list7 = []\n",
    "\n",
    "last_element = list7[-1] if list7 else None\n",
    "\n",
    "print(f\"last element: {last_element}\")"
   ]
  },
  {
   "cell_type": "markdown",
   "metadata": {},
   "source": [
    "8. **Slice List**"
   ]
  },
  {
   "cell_type": "code",
   "execution_count": 27,
   "metadata": {},
   "outputs": [
    {
     "name": "stdout",
     "output_type": "stream",
     "text": [
      "first 3 elements: [1, 2, 3]\n"
     ]
    }
   ],
   "source": [
    "original8 = [1, 2, 3, 4, 5]\n",
    "sliced_list = original8[:3]\n",
    "\n",
    "print(f\"first 3 elements: {sliced_list}\")"
   ]
  },
  {
   "cell_type": "markdown",
   "metadata": {},
   "source": [
    "9. **Reverse List**"
   ]
  },
  {
   "cell_type": "code",
   "execution_count": 28,
   "metadata": {},
   "outputs": [
    {
     "name": "stdout",
     "output_type": "stream",
     "text": [
      "reversed list: [5, 4, 3, 2, 1]\n"
     ]
    }
   ],
   "source": [
    "original9 = [1, 2, 3, 4, 5]\n",
    "\n",
    "reversed_list = original9[::-1]\n",
    "\n",
    "print(f\"reversed list: {reversed_list}\")"
   ]
  },
  {
   "cell_type": "markdown",
   "metadata": {},
   "source": [
    "10. **Sort List**"
   ]
  },
  {
   "cell_type": "code",
   "execution_count": 30,
   "metadata": {},
   "outputs": [
    {
     "name": "stdout",
     "output_type": "stream",
     "text": [
      "sorted list: [1, 2, 4, 4, 6, 6, 7, 8]\n"
     ]
    }
   ],
   "source": [
    "original10 = [8, 6, 4, 7, 6, 4, 2, 1]\n",
    "\n",
    "sorted_list = sorted(original10)\n",
    "\n",
    "print(f\"sorted list: {sorted_list}\")"
   ]
  },
  {
   "cell_type": "markdown",
   "metadata": {},
   "source": []
  }
 ],
 "metadata": {
  "kernelspec": {
   "display_name": "Python 3",
   "language": "python",
   "name": "python3"
  },
  "language_info": {
   "codemirror_mode": {
    "name": "ipython",
    "version": 3
   },
   "file_extension": ".py",
   "mimetype": "text/x-python",
   "name": "python",
   "nbconvert_exporter": "python",
   "pygments_lexer": "ipython3",
   "version": "3.12.6"
  }
 },
 "nbformat": 4,
 "nbformat_minor": 2
}
