{
 "cells": [
  {
   "cell_type": "markdown",
   "metadata": {},
   "source": [
    "List Tasks"
   ]
  },
  {
   "cell_type": "code",
   "execution_count": 19,
   "metadata": {},
   "outputs": [],
   "source": [
    "# example list\n",
    "numbers = [1, 2, 3, 4, 5, 3, 3, 4]"
   ]
  },
  {
   "cell_type": "markdown",
   "metadata": {},
   "source": [
    "1. **Count Occurrences**"
   ]
  },
  {
   "cell_type": "code",
   "execution_count": 20,
   "metadata": {},
   "outputs": [
    {
     "name": "stdout",
     "output_type": "stream",
     "text": [
      "3 appears 3 times\n"
     ]
    }
   ],
   "source": [
    "element = 3\n",
    "\n",
    "x = numbers.count(element)\n",
    "print(f\"{element} appears {x} times\")"
   ]
  },
  {
   "cell_type": "markdown",
   "metadata": {},
   "source": [
    "2. **Sum of Elements**"
   ]
  },
  {
   "cell_type": "code",
   "execution_count": 21,
   "metadata": {},
   "outputs": [
    {
     "name": "stdout",
     "output_type": "stream",
     "text": [
      "sum of list: 25\n"
     ]
    }
   ],
   "source": [
    "sum_list = sum(numbers)\n",
    "\n",
    "print(f\"sum of list: {sum_list}\")"
   ]
  },
  {
   "cell_type": "markdown",
   "metadata": {},
   "source": [
    "3. **Max Element**"
   ]
  },
  {
   "cell_type": "code",
   "execution_count": 22,
   "metadata": {},
   "outputs": [
    {
     "name": "stdout",
     "output_type": "stream",
     "text": [
      "largest element: 5\n"
     ]
    }
   ],
   "source": [
    "largest = max(numbers)\n",
    "\n",
    "print(f\"largest element: {largest}\")"
   ]
  },
  {
   "cell_type": "markdown",
   "metadata": {},
   "source": [
    "4. **Min Element**"
   ]
  },
  {
   "cell_type": "code",
   "execution_count": 23,
   "metadata": {},
   "outputs": [
    {
     "name": "stdout",
     "output_type": "stream",
     "text": [
      "smallest element: 1\n"
     ]
    }
   ],
   "source": [
    "smallest = min(numbers)\n",
    "\n",
    "print(f\"smallest element: {smallest}\")"
   ]
  },
  {
   "cell_type": "markdown",
   "metadata": {},
   "source": [
    "5. **Check Element**"
   ]
  },
  {
   "cell_type": "code",
   "execution_count": 24,
   "metadata": {},
   "outputs": [
    {
     "name": "stdout",
     "output_type": "stream",
     "text": [
      "7 present in list: False\n"
     ]
    }
   ],
   "source": [
    "element5 = 7\n",
    "\n",
    "check_present = element5 in numbers\n",
    "\n",
    "print(f\"{element5} present in list: {check_present}\")"
   ]
  },
  {
   "cell_type": "markdown",
   "metadata": {},
   "source": [
    "6. **First Element**"
   ]
  },
  {
   "cell_type": "code",
   "execution_count": 25,
   "metadata": {},
   "outputs": [
    {
     "name": "stdout",
     "output_type": "stream",
     "text": [
      "first element: hi\n"
     ]
    }
   ],
   "source": [
    "list6 = [\"hi\", 3]\n",
    "\n",
    "first_element = list6[0] if list6 else None\n",
    "\n",
    "print(f\"first element: {first_element}\")"
   ]
  },
  {
   "cell_type": "markdown",
   "metadata": {},
   "source": [
    "7. **Last Element**"
   ]
  },
  {
   "cell_type": "code",
   "execution_count": 26,
   "metadata": {},
   "outputs": [
    {
     "name": "stdout",
     "output_type": "stream",
     "text": [
      "last element: None\n"
     ]
    }
   ],
   "source": [
    "list7 = []\n",
    "\n",
    "last_element = list7[-1] if list7 else None\n",
    "\n",
    "print(f\"last element: {last_element}\")"
   ]
  },
  {
   "cell_type": "markdown",
   "metadata": {},
   "source": [
    "8. **Slice List**"
   ]
  },
  {
   "cell_type": "code",
   "execution_count": 27,
   "metadata": {},
   "outputs": [
    {
     "name": "stdout",
     "output_type": "stream",
     "text": [
      "first 3 elements: [1, 2, 3]\n"
     ]
    }
   ],
   "source": [
    "original8 = [1, 2, 3, 4, 5]\n",
    "sliced_list = original8[:3]\n",
    "\n",
    "print(f\"first 3 elements: {sliced_list}\")"
   ]
  },
  {
   "cell_type": "markdown",
   "metadata": {},
   "source": [
    "9. **Reverse List**"
   ]
  },
  {
   "cell_type": "code",
   "execution_count": 28,
   "metadata": {},
   "outputs": [
    {
     "name": "stdout",
     "output_type": "stream",
     "text": [
      "reversed list: [5, 4, 3, 2, 1]\n"
     ]
    }
   ],
   "source": [
    "original9 = [1, 2, 3, 4, 5]\n",
    "\n",
    "reversed_list = original9[::-1]\n",
    "\n",
    "print(f\"reversed list: {reversed_list}\")"
   ]
  },
  {
   "cell_type": "markdown",
   "metadata": {},
   "source": [
    "10. **Sort List**"
   ]
  },
  {
   "cell_type": "code",
   "execution_count": 30,
   "metadata": {},
   "outputs": [
    {
     "name": "stdout",
     "output_type": "stream",
     "text": [
      "sorted list: [1, 2, 4, 4, 6, 6, 7, 8]\n"
     ]
    }
   ],
   "source": [
    "original10 = [8, 6, 4, 7, 6, 4, 2, 1]\n",
    "\n",
    "sorted_list = sorted(original10)\n",
    "\n",
    "print(f\"sorted list: {sorted_list}\")"
   ]
  },
  {
   "cell_type": "markdown",
   "metadata": {},
   "source": [
    "11. **Remove Duplicates**"
   ]
  },
  {
   "cell_type": "code",
   "execution_count": 32,
   "metadata": {},
   "outputs": [
    {
     "name": "stdout",
     "output_type": "stream",
     "text": [
      "unique elements: [1, 2, 3, 4]\n"
     ]
    }
   ],
   "source": [
    "original_11 = [1, 2, 4, 2, 3, 4, 4]\n",
    "\n",
    "unique_elements = list(set(original_11))\n",
    "\n",
    "print(f\"unique elements: {unique_elements}\")"
   ]
  },
  {
   "cell_type": "markdown",
   "metadata": {},
   "source": [
    "12. **Insert Element**"
   ]
  },
  {
   "cell_type": "code",
   "execution_count": 34,
   "metadata": {},
   "outputs": [
    {
     "name": "stdout",
     "output_type": "stream",
     "text": [
      "banana inserted to list: ['apple', 'banana', 'cherry']\n"
     ]
    }
   ],
   "source": [
    "fruits_12 = [\"apple\", \"cherry\"]\n",
    "fruit = \"banana\"\n",
    "\n",
    "fruits_12.insert(1, fruit)\n",
    "\n",
    "print(f\"{fruit} inserted to list: {fruits_12}\")"
   ]
  },
  {
   "cell_type": "markdown",
   "metadata": {},
   "source": [
    "13. **Index of Element**"
   ]
  },
  {
   "cell_type": "code",
   "execution_count": 37,
   "metadata": {},
   "outputs": [
    {
     "name": "stdout",
     "output_type": "stream",
     "text": [
      "first occurance of 7: index 3\n"
     ]
    }
   ],
   "source": [
    "list_13 = [1, 2, 3, 7, 4, 5, 7]\n",
    "element_13 = 7\n",
    "\n",
    "index_13 = list_13.index(element_13)\n",
    "\n",
    "print(f\"first occurance of {element_13}: index {index_13}\")"
   ]
  },
  {
   "cell_type": "markdown",
   "metadata": {},
   "source": [
    "14. **Check for Empty List**"
   ]
  },
  {
   "cell_type": "code",
   "execution_count": 41,
   "metadata": {},
   "outputs": [
    {
     "name": "stdout",
     "output_type": "stream",
     "text": [
      "is empty: True\n"
     ]
    }
   ],
   "source": [
    "list_14 = []\n",
    "\n",
    "is_empty = not bool(list_14)\n",
    "\n",
    "print(f\"is empty: {is_empty}\")"
   ]
  },
  {
   "cell_type": "markdown",
   "metadata": {},
   "source": [
    "15. **Count Even Numbers**"
   ]
  },
  {
   "cell_type": "code",
   "execution_count": 50,
   "metadata": {},
   "outputs": [
    {
     "name": "stdout",
     "output_type": "stream",
     "text": [
      "[2, 4, 6]\n",
      "there are 3 even numbers\n"
     ]
    }
   ],
   "source": [
    "numbers_15 = [1, 2, 3, 4, 5, 6, 7]\n",
    "\n",
    "even_nums = list(filter(lambda x: x % 2 == 0, numbers_15))\n",
    "\n",
    "print(even_nums)\n",
    "print(f\"there are {len(even_nums)} even numbers\")"
   ]
  },
  {
   "cell_type": "markdown",
   "metadata": {},
   "source": [
    "16. **Count Odd Numbers**"
   ]
  },
  {
   "cell_type": "code",
   "execution_count": 49,
   "metadata": {},
   "outputs": [
    {
     "name": "stdout",
     "output_type": "stream",
     "text": [
      "[1, 3, 5, 7]\n",
      "there are 4 odd numbers\n"
     ]
    }
   ],
   "source": [
    "numbers_16 = [1, 2, 3, 4, 5, 6, 7]\n",
    "\n",
    "odd_nums = list(filter(lambda x: x % 2 != 0, numbers_16))\n",
    "\n",
    "print(odd_nums)\n",
    "print(f\"there are {len(even_nums)} odd numbers\")"
   ]
  },
  {
   "cell_type": "markdown",
   "metadata": {},
   "source": [
    "17. **Concatenate Lists**"
   ]
  },
  {
   "cell_type": "code",
   "execution_count": 52,
   "metadata": {},
   "outputs": [
    {
     "name": "stdout",
     "output_type": "stream",
     "text": [
      "combined list: [1, 2, 3, 4, 5, 6]\n"
     ]
    }
   ],
   "source": [
    "list_a = [1, 2, 3]\n",
    "list_b = [4, 5, 6]\n",
    "\n",
    "list_a.extend(list_b) # This will modify list_a in-place\n",
    "print(f\"combined list: {list_a}\")"
   ]
  },
  {
   "cell_type": "markdown",
   "metadata": {},
   "source": [
    "18. **Find Sublist**"
   ]
  },
  {
   "cell_type": "code",
   "execution_count": 54,
   "metadata": {},
   "outputs": [
    {
     "name": "stdout",
     "output_type": "stream",
     "text": [
      "sublist in list: True\n"
     ]
    }
   ],
   "source": [
    "list_18 = [1, [2, 3], 3, 4, 5]\n",
    "sublist = [2, 3]\n",
    "\n",
    "check_sublist = sublist in list_18\n",
    "\n",
    "print(f\"sublist in list: {check_sublist}\")"
   ]
  },
  {
   "cell_type": "markdown",
   "metadata": {},
   "source": [
    "19. **Replace Element**"
   ]
  },
  {
   "cell_type": "code",
   "execution_count": 55,
   "metadata": {},
   "outputs": [
    {
     "name": "stdout",
     "output_type": "stream",
     "text": [
      "replaced list: ['banana', 'mango', 'cherry', 'apple']\n"
     ]
    }
   ],
   "source": [
    "list_19 = [\"banana\", \"apple\", \"cherry\", \"apple\"]\n",
    "replace_fruit = \"apple\"\n",
    "new_fruit = \"mango\"\n",
    "\n",
    "x = list_19.index(replace_fruit)\n",
    "list_19[x] = new_fruit\n",
    "\n",
    "print(f\"replaced list: {list_19}\")\n"
   ]
  },
  {
   "cell_type": "markdown",
   "metadata": {},
   "source": [
    "20. **Find Second Largest**"
   ]
  },
  {
   "cell_type": "code",
   "execution_count": 58,
   "metadata": {},
   "outputs": [
    {
     "name": "stdout",
     "output_type": "stream",
     "text": [
      "second largest: 4\n"
     ]
    }
   ],
   "source": [
    "numbers_20 = [1, 2, 3, 4, 5, 4, 5]\n",
    "\n",
    "second_largest = list(set(sorted(numbers_20)))[-2]\n",
    "\n",
    "print(f\"second largest: {second_largest}\")"
   ]
  },
  {
   "cell_type": "markdown",
   "metadata": {},
   "source": []
  },
  {
   "cell_type": "code",
   "execution_count": null,
   "metadata": {},
   "outputs": [],
   "source": []
  }
 ],
 "metadata": {
  "kernelspec": {
   "display_name": "Python 3",
   "language": "python",
   "name": "python3"
  },
  "language_info": {
   "codemirror_mode": {
    "name": "ipython",
    "version": 3
   },
   "file_extension": ".py",
   "mimetype": "text/x-python",
   "name": "python",
   "nbconvert_exporter": "python",
   "pygments_lexer": "ipython3",
   "version": "3.12.6"
  }
 },
 "nbformat": 4,
 "nbformat_minor": 2
}
