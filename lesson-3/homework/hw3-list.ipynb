{
 "cells": [
  {
   "cell_type": "markdown",
   "metadata": {},
   "source": [
    "List Tasks"
   ]
  },
  {
   "cell_type": "code",
   "execution_count": 19,
   "metadata": {},
   "outputs": [],
   "source": [
    "# example list\n",
    "numbers = [1, 2, 3, 4, 5, 3, 3, 4]"
   ]
  },
  {
   "cell_type": "markdown",
   "metadata": {},
   "source": [
    "1. **Count Occurrences**"
   ]
  },
  {
   "cell_type": "code",
   "execution_count": 20,
   "metadata": {},
   "outputs": [
    {
     "name": "stdout",
     "output_type": "stream",
     "text": [
      "3 appears 3 times\n"
     ]
    }
   ],
   "source": [
    "element = 3\n",
    "\n",
    "x = numbers.count(element)\n",
    "print(f\"{element} appears {x} times\")"
   ]
  },
  {
   "cell_type": "markdown",
   "metadata": {},
   "source": [
    "2. **Sum of Elements**"
   ]
  },
  {
   "cell_type": "code",
   "execution_count": 21,
   "metadata": {},
   "outputs": [
    {
     "name": "stdout",
     "output_type": "stream",
     "text": [
      "sum of list: 25\n"
     ]
    }
   ],
   "source": [
    "sum_list = sum(numbers)\n",
    "\n",
    "print(f\"sum of list: {sum_list}\")"
   ]
  },
  {
   "cell_type": "markdown",
   "metadata": {},
   "source": [
    "3. **Max Element**"
   ]
  },
  {
   "cell_type": "code",
   "execution_count": 22,
   "metadata": {},
   "outputs": [
    {
     "name": "stdout",
     "output_type": "stream",
     "text": [
      "largest element: 5\n"
     ]
    }
   ],
   "source": [
    "largest = max(numbers)\n",
    "\n",
    "print(f\"largest element: {largest}\")"
   ]
  },
  {
   "cell_type": "markdown",
   "metadata": {},
   "source": [
    "4. **Min Element**"
   ]
  },
  {
   "cell_type": "code",
   "execution_count": 23,
   "metadata": {},
   "outputs": [
    {
     "name": "stdout",
     "output_type": "stream",
     "text": [
      "smallest element: 1\n"
     ]
    }
   ],
   "source": [
    "smallest = min(numbers)\n",
    "\n",
    "print(f\"smallest element: {smallest}\")"
   ]
  },
  {
   "cell_type": "markdown",
   "metadata": {},
   "source": [
    "5. **Check Element**"
   ]
  },
  {
   "cell_type": "code",
   "execution_count": 24,
   "metadata": {},
   "outputs": [
    {
     "name": "stdout",
     "output_type": "stream",
     "text": [
      "7 present in list: False\n"
     ]
    }
   ],
   "source": [
    "element5 = 7\n",
    "\n",
    "check_present = element5 in numbers\n",
    "\n",
    "print(f\"{element5} present in list: {check_present}\")"
   ]
  },
  {
   "cell_type": "markdown",
   "metadata": {},
   "source": [
    "6. **First Element**"
   ]
  },
  {
   "cell_type": "code",
   "execution_count": 25,
   "metadata": {},
   "outputs": [
    {
     "name": "stdout",
     "output_type": "stream",
     "text": [
      "first element: hi\n"
     ]
    }
   ],
   "source": [
    "list6 = [\"hi\", 3]\n",
    "\n",
    "first_element = list6[0] if list6 else None\n",
    "\n",
    "print(f\"first element: {first_element}\")"
   ]
  },
  {
   "cell_type": "markdown",
   "metadata": {},
   "source": [
    "7. **Last Element**"
   ]
  },
  {
   "cell_type": "code",
   "execution_count": 26,
   "metadata": {},
   "outputs": [
    {
     "name": "stdout",
     "output_type": "stream",
     "text": [
      "last element: None\n"
     ]
    }
   ],
   "source": [
    "list7 = []\n",
    "\n",
    "last_element = list7[-1] if list7 else None\n",
    "\n",
    "print(f\"last element: {last_element}\")"
   ]
  },
  {
   "cell_type": "markdown",
   "metadata": {},
   "source": [
    "8. **Slice List**"
   ]
  },
  {
   "cell_type": "code",
   "execution_count": 27,
   "metadata": {},
   "outputs": [
    {
     "name": "stdout",
     "output_type": "stream",
     "text": [
      "first 3 elements: [1, 2, 3]\n"
     ]
    }
   ],
   "source": [
    "original8 = [1, 2, 3, 4, 5]\n",
    "sliced_list = original8[:3]\n",
    "\n",
    "print(f\"first 3 elements: {sliced_list}\")"
   ]
  },
  {
   "cell_type": "markdown",
   "metadata": {},
   "source": [
    "9. **Reverse List**"
   ]
  },
  {
   "cell_type": "code",
   "execution_count": 28,
   "metadata": {},
   "outputs": [
    {
     "name": "stdout",
     "output_type": "stream",
     "text": [
      "reversed list: [5, 4, 3, 2, 1]\n"
     ]
    }
   ],
   "source": [
    "original9 = [1, 2, 3, 4, 5]\n",
    "\n",
    "reversed_list = original9[::-1]\n",
    "\n",
    "print(f\"reversed list: {reversed_list}\")"
   ]
  },
  {
   "cell_type": "markdown",
   "metadata": {},
   "source": [
    "10. **Sort List**"
   ]
  },
  {
   "cell_type": "code",
   "execution_count": 30,
   "metadata": {},
   "outputs": [
    {
     "name": "stdout",
     "output_type": "stream",
     "text": [
      "sorted list: [1, 2, 4, 4, 6, 6, 7, 8]\n"
     ]
    }
   ],
   "source": [
    "original10 = [8, 6, 4, 7, 6, 4, 2, 1]\n",
    "\n",
    "sorted_list = sorted(original10)\n",
    "\n",
    "print(f\"sorted list: {sorted_list}\")"
   ]
  },
  {
   "cell_type": "markdown",
   "metadata": {},
   "source": [
    "11. **Remove Duplicates**"
   ]
  },
  {
   "cell_type": "code",
   "execution_count": 32,
   "metadata": {},
   "outputs": [
    {
     "name": "stdout",
     "output_type": "stream",
     "text": [
      "unique elements: [1, 2, 3, 4]\n"
     ]
    }
   ],
   "source": [
    "original_11 = [1, 2, 4, 2, 3, 4, 4]\n",
    "\n",
    "unique_elements = list(set(original_11))\n",
    "\n",
    "print(f\"unique elements: {unique_elements}\")"
   ]
  },
  {
   "cell_type": "markdown",
   "metadata": {},
   "source": [
    "12. **Insert Element**"
   ]
  },
  {
   "cell_type": "code",
   "execution_count": 34,
   "metadata": {},
   "outputs": [
    {
     "name": "stdout",
     "output_type": "stream",
     "text": [
      "banana inserted to list: ['apple', 'banana', 'cherry']\n"
     ]
    }
   ],
   "source": [
    "fruits_12 = [\"apple\", \"cherry\"]\n",
    "fruit = \"banana\"\n",
    "\n",
    "fruits_12.insert(1, fruit)\n",
    "\n",
    "print(f\"{fruit} inserted to list: {fruits_12}\")"
   ]
  },
  {
   "cell_type": "markdown",
   "metadata": {},
   "source": [
    "13. **Index of Element**"
   ]
  },
  {
   "cell_type": "code",
   "execution_count": 37,
   "metadata": {},
   "outputs": [
    {
     "name": "stdout",
     "output_type": "stream",
     "text": [
      "first occurance of 7: index 3\n"
     ]
    }
   ],
   "source": [
    "list_13 = [1, 2, 3, 7, 4, 5, 7]\n",
    "element_13 = 7\n",
    "\n",
    "index_13 = list_13.index(element_13)\n",
    "\n",
    "print(f\"first occurance of {element_13}: index {index_13}\")"
   ]
  },
  {
   "cell_type": "markdown",
   "metadata": {},
   "source": [
    "14. **Check for Empty List**"
   ]
  },
  {
   "cell_type": "code",
   "execution_count": 41,
   "metadata": {},
   "outputs": [
    {
     "name": "stdout",
     "output_type": "stream",
     "text": [
      "is empty: True\n"
     ]
    }
   ],
   "source": [
    "list_14 = []\n",
    "\n",
    "is_empty = not bool(list_14)\n",
    "\n",
    "print(f\"is empty: {is_empty}\")"
   ]
  },
  {
   "cell_type": "markdown",
   "metadata": {},
   "source": [
    "15. **Count Even Numbers**"
   ]
  },
  {
   "cell_type": "code",
   "execution_count": 50,
   "metadata": {},
   "outputs": [
    {
     "name": "stdout",
     "output_type": "stream",
     "text": [
      "[2, 4, 6]\n",
      "there are 3 even numbers\n"
     ]
    }
   ],
   "source": [
    "numbers_15 = [1, 2, 3, 4, 5, 6, 7]\n",
    "\n",
    "even_nums = list(filter(lambda x: x % 2 == 0, numbers_15))\n",
    "\n",
    "print(even_nums)\n",
    "print(f\"there are {len(even_nums)} even numbers\")"
   ]
  },
  {
   "cell_type": "markdown",
   "metadata": {},
   "source": [
    "16. **Count Odd Numbers**"
   ]
  },
  {
   "cell_type": "code",
   "execution_count": 49,
   "metadata": {},
   "outputs": [
    {
     "name": "stdout",
     "output_type": "stream",
     "text": [
      "[1, 3, 5, 7]\n",
      "there are 4 odd numbers\n"
     ]
    }
   ],
   "source": [
    "numbers_16 = [1, 2, 3, 4, 5, 6, 7]\n",
    "\n",
    "odd_nums = list(filter(lambda x: x % 2 != 0, numbers_16))\n",
    "\n",
    "print(odd_nums)\n",
    "print(f\"there are {len(even_nums)} odd numbers\")"
   ]
  },
  {
   "cell_type": "markdown",
   "metadata": {},
   "source": [
    "17. **Concatenate Lists**"
   ]
  },
  {
   "cell_type": "code",
   "execution_count": 52,
   "metadata": {},
   "outputs": [
    {
     "name": "stdout",
     "output_type": "stream",
     "text": [
      "combined list: [1, 2, 3, 4, 5, 6]\n"
     ]
    }
   ],
   "source": [
    "list_a = [1, 2, 3]\n",
    "list_b = [4, 5, 6]\n",
    "\n",
    "list_a.extend(list_b) # This will modify list_a in-place\n",
    "print(f\"combined list: {list_a}\")"
   ]
  },
  {
   "cell_type": "markdown",
   "metadata": {},
   "source": [
    "18. **Find Sublist**"
   ]
  },
  {
   "cell_type": "code",
   "execution_count": 54,
   "metadata": {},
   "outputs": [
    {
     "name": "stdout",
     "output_type": "stream",
     "text": [
      "sublist in list: True\n"
     ]
    }
   ],
   "source": [
    "list_18 = [1, [2, 3], 3, 4, 5]\n",
    "sublist = [2, 3]\n",
    "\n",
    "check_sublist = sublist in list_18\n",
    "\n",
    "print(f\"sublist in list: {check_sublist}\")"
   ]
  },
  {
   "cell_type": "markdown",
   "metadata": {},
   "source": [
    "19. **Replace Element**"
   ]
  },
  {
   "cell_type": "code",
   "execution_count": 55,
   "metadata": {},
   "outputs": [
    {
     "name": "stdout",
     "output_type": "stream",
     "text": [
      "replaced list: ['banana', 'mango', 'cherry', 'apple']\n"
     ]
    }
   ],
   "source": [
    "list_19 = [\"banana\", \"apple\", \"cherry\", \"apple\"]\n",
    "replace_fruit = \"apple\"\n",
    "new_fruit = \"mango\"\n",
    "\n",
    "x = list_19.index(replace_fruit)\n",
    "list_19[x] = new_fruit\n",
    "\n",
    "print(f\"replaced list: {list_19}\")\n"
   ]
  },
  {
   "cell_type": "markdown",
   "metadata": {},
   "source": [
    "20. **Find Second Largest**"
   ]
  },
  {
   "cell_type": "code",
   "execution_count": 60,
   "metadata": {},
   "outputs": [
    {
     "name": "stdout",
     "output_type": "stream",
     "text": [
      "second largest: 4\n"
     ]
    }
   ],
   "source": [
    "numbers_20 = [1, 2, 3, 4, 5, 4, 5]\n",
    "\n",
    "second_largest = list(sorted(set(numbers_20)))[-2]\n",
    "\n",
    "print(f\"second largest: {second_largest}\")"
   ]
  },
  {
   "cell_type": "markdown",
   "metadata": {},
   "source": [
    "21. **Find Second Smallest**"
   ]
  },
  {
   "cell_type": "code",
   "execution_count": 62,
   "metadata": {},
   "outputs": [
    {
     "name": "stdout",
     "output_type": "stream",
     "text": [
      "second smallest: 2\n"
     ]
    }
   ],
   "source": [
    "numbers_21 = [1, 1, 2, 3, 4, 5, 4, 5]\n",
    "\n",
    "second_smallest = list(sorted(set(numbers_20)))[1]\n",
    "\n",
    "print(f\"second smallest: {second_smallest}\")"
   ]
  },
  {
   "cell_type": "markdown",
   "metadata": {},
   "source": [
    "22. **Filter Even Numbers**"
   ]
  },
  {
   "cell_type": "code",
   "execution_count": 65,
   "metadata": {},
   "outputs": [
    {
     "name": "stdout",
     "output_type": "stream",
     "text": [
      "even numbers: [2, 4, 6]\n"
     ]
    }
   ],
   "source": [
    "numbers_22 = [1, 2, 3, 4, 5, 6, 7]\n",
    "\n",
    "even_nums = list(filter(lambda x: x % 2 == 0, numbers_22))\n",
    "\n",
    "print(f\"even numbers: {even_nums}\")"
   ]
  },
  {
   "cell_type": "markdown",
   "metadata": {},
   "source": [
    "23. **Filter Odd Numbers**"
   ]
  },
  {
   "cell_type": "code",
   "execution_count": 67,
   "metadata": {},
   "outputs": [
    {
     "name": "stdout",
     "output_type": "stream",
     "text": [
      "odd numbers: [1, 3, 5, 7]\n"
     ]
    }
   ],
   "source": [
    "numbers_23 = [1, 2, 3, 4, 5, 6, 7]\n",
    "\n",
    "odd_nums = list(filter(lambda x: x % 2 != 0, numbers_23))\n",
    "\n",
    "print(f\"odd numbers: {odd_nums}\")"
   ]
  },
  {
   "cell_type": "markdown",
   "metadata": {},
   "source": [
    "24. **List Length**"
   ]
  },
  {
   "cell_type": "code",
   "execution_count": 69,
   "metadata": {},
   "outputs": [
    {
     "name": "stdout",
     "output_type": "stream",
     "text": [
      "list length: 5\n"
     ]
    }
   ],
   "source": [
    "list_24 = [1, 1, 2, 3, 4]\n",
    "list_length = len(list_24)\n",
    "\n",
    "print(f\"list length: {list_length}\")"
   ]
  },
  {
   "cell_type": "markdown",
   "metadata": {},
   "source": [
    "25. **Create a Copy**"
   ]
  },
  {
   "cell_type": "code",
   "execution_count": 75,
   "metadata": {},
   "outputs": [
    {
     "name": "stdout",
     "output_type": "stream",
     "text": [
      "original: ['Washington', 'Tashkent', 'Berlin']\n",
      "copy:     ['Moscow', 'Tashkent', 'Berlin']\n"
     ]
    }
   ],
   "source": [
    "original_25 = [\"Moscow\", \"Tashkent\", \"Berlin\"]\n",
    "list_copy = original_25.copy()\n",
    "\n",
    "original_25[0] = \"Washington\"\n",
    "\n",
    "print(f\"original: {original_25}\\n{'copy:':<9} {list_copy}\")"
   ]
  },
  {
   "cell_type": "markdown",
   "metadata": {},
   "source": [
    "26. **Get Middle Element**"
   ]
  },
  {
   "cell_type": "code",
   "execution_count": 82,
   "metadata": {},
   "outputs": [
    {
     "name": "stdout",
     "output_type": "stream",
     "text": [
      "middle elements: ['Tashkent', 'Berlin']\n"
     ]
    }
   ],
   "source": [
    "list_26 = [\"Moscow\", \"Tashkent\", \"Berlin\", \"Tokyo\"]\n",
    "list_len = len(list_26)\n",
    "mid_index = list_len // 2\n",
    "mid_element = list((list_26[mid_index - 1], list_26[mid_index])) if list_len % 2 == 0 else list_26[mid_index]\n",
    "\n",
    "print(f\"middle element{'s' if list_len % 2 == 0 else ''}: {mid_element}\")"
   ]
  },
  {
   "cell_type": "markdown",
   "metadata": {},
   "source": [
    "27. **Find Maximum of Sublist**"
   ]
  },
  {
   "cell_type": "code",
   "execution_count": 89,
   "metadata": {},
   "outputs": [
    {
     "name": "stdout",
     "output_type": "stream",
     "text": [
      "max element of [6, 7, 3]: 7\n"
     ]
    }
   ],
   "source": [
    "numbers_27 = [1, 2, 6, 7, 3, 4, 5, 6]  # len = 8\n",
    "start_index = 2\n",
    "end_index = 5\n",
    "sublist = numbers_27[start_index:end_index]\n",
    "\n",
    "max_sublist = max(sublist)\n",
    "\n",
    "print(f\"max element of {sublist}: {max_sublist}\")"
   ]
  },
  {
   "cell_type": "markdown",
   "metadata": {},
   "source": [
    "28. **Find Minimum of Sublist**"
   ]
  },
  {
   "cell_type": "code",
   "execution_count": 90,
   "metadata": {},
   "outputs": [
    {
     "name": "stdout",
     "output_type": "stream",
     "text": [
      "min element of [6, 7, 3]: 3\n"
     ]
    }
   ],
   "source": [
    "numbers_28 = [1, 2, 6, 7, 3, 4, 5, 6]  # len = 8\n",
    "start_index = 2\n",
    "end_index = 5\n",
    "sublist = numbers_27[start_index:end_index]\n",
    "\n",
    "min_sublist = min(sublist)\n",
    "\n",
    "print(f\"min element of {sublist}: {min_sublist}\")"
   ]
  },
  {
   "cell_type": "markdown",
   "metadata": {},
   "source": [
    "29. **Remove Element by Index**"
   ]
  },
  {
   "cell_type": "code",
   "execution_count": 98,
   "metadata": {},
   "outputs": [
    {
     "name": "stdout",
     "output_type": "stream",
     "text": [
      "old: [1, 2, 3, 4]\n",
      "new: [1, 2, 3, 4]\n",
      "removed: None\n"
     ]
    }
   ],
   "source": [
    "numbers_29 = [1, 2, 3, 4]\n",
    "remove_idx = 5\n",
    "\n",
    "numbers_29_copy = numbers_29.copy()\n",
    "\n",
    "removed = numbers_29.pop(remove_idx) if remove_idx < len(numbers_29) else None\n",
    "\n",
    "print(f\"old: {numbers_29_copy}\\nnew: {numbers_29}\\nremoved: {removed}\")"
   ]
  },
  {
   "cell_type": "markdown",
   "metadata": {},
   "source": [
    "30. **Check if List is Sorted**"
   ]
  },
  {
   "cell_type": "code",
   "execution_count": 102,
   "metadata": {},
   "outputs": [
    {
     "name": "stdout",
     "output_type": "stream",
     "text": [
      "[5, 4, 3, 2, 1] is ascending: False\n"
     ]
    }
   ],
   "source": [
    "numbers_30 = [5, 4, 3, 2, 1]\n",
    "sorted_nums_ascending = sorted(numbers_30, reverse=False)\n",
    "\n",
    "is_ascending = sorted_nums_ascending == numbers_30\n",
    "\n",
    "print(f\"{numbers_30} is ascending: {is_ascending}\")"
   ]
  },
  {
   "cell_type": "markdown",
   "metadata": {},
   "source": [
    "31. **Repeat Elements**"
   ]
  },
  {
   "cell_type": "code",
   "execution_count": 103,
   "metadata": {},
   "outputs": [
    {
     "name": "stdout",
     "output_type": "stream",
     "text": [
      "repeated list: [1, 1, 1, 2, 2, 2, 3, 3, 3, 4, 4, 4]\n"
     ]
    }
   ],
   "source": [
    "list_31 = [1, 2, 3, 4]\n",
    "repeat = 3\n",
    "\n",
    "repeated_list = [element for element in list_31 for _ in range(repeat)]\n",
    "\n",
    "print(f\"repeated list: {repeated_list}\")"
   ]
  },
  {
   "cell_type": "markdown",
   "metadata": {},
   "source": [
    "32. **Merge and Sort**"
   ]
  },
  {
   "cell_type": "code",
   "execution_count": 104,
   "metadata": {},
   "outputs": [
    {
     "name": "stdout",
     "output_type": "stream",
     "text": [
      "new sorted list: [1, 2, 3, 4, 5, 6]\n"
     ]
    }
   ],
   "source": [
    "list_a = [1, 3, 5]\n",
    "list_b = [2, 4, 6]\n",
    "\n",
    "new_sorted_list = sorted(list_a + list_b)\n",
    "\n",
    "print(f\"new sorted list: {new_sorted_list}\")"
   ]
  },
  {
   "cell_type": "markdown",
   "metadata": {},
   "source": [
    "33. **Find All Indices**"
   ]
  },
  {
   "cell_type": "code",
   "execution_count": 105,
   "metadata": {},
   "outputs": [
    {
     "name": "stdout",
     "output_type": "stream",
     "text": [
      "indexes of 2: [1, 2, 4]\n"
     ]
    }
   ],
   "source": [
    "numbers_33 = [1, 2, 2, 3, 2, 4, 5, 5]\n",
    "element = 2\n",
    "\n",
    "indexes_list = [i for i in range(len(numbers_33)) if numbers_33[i] == element]\n",
    "\n",
    "print(f\"indexes of {element}: {indexes_list}\")"
   ]
  },
  {
   "cell_type": "markdown",
   "metadata": {},
   "source": [
    "34. **Rotate List**\n",
    "\n",
    "![Rotate List](list34.png)\n"
   ]
  },
  {
   "cell_type": "code",
   "execution_count": 108,
   "metadata": {},
   "outputs": [
    {
     "name": "stdout",
     "output_type": "stream",
     "text": [
      "rotated list: [4, 1, 2, 3]\n"
     ]
    }
   ],
   "source": [
    "numbers_34 = [1, 2, 3, 4]\n",
    "rotated_list = numbers_34[-1:] + numbers_34[:-1]\n",
    "\n",
    "print(f\"rotated list: {rotated_list}\")"
   ]
  },
  {
   "cell_type": "markdown",
   "metadata": {},
   "source": [
    "35. **Create Range List**"
   ]
  },
  {
   "cell_type": "code",
   "execution_count": 4,
   "metadata": {},
   "outputs": [
    {
     "name": "stdout",
     "output_type": "stream",
     "text": [
      "list of numbers from 2 to 7: [2, 3, 4, 5, 6, 7]\n"
     ]
    }
   ],
   "source": [
    "range_start = 2\n",
    "range_end = 7\n",
    "\n",
    "created_list = list(range(range_start, range_end + 1))\n",
    "\n",
    "print(f\"list of numbers from {range_start} to {range_end}: {created_list}\")"
   ]
  },
  {
   "cell_type": "markdown",
   "metadata": {},
   "source": [
    "36. **Sum of Positive Numbers**"
   ]
  },
  {
   "cell_type": "code",
   "execution_count": 7,
   "metadata": {},
   "outputs": [
    {
     "name": "stdout",
     "output_type": "stream",
     "text": [
      "sum of positives: 4\n"
     ]
    }
   ],
   "source": [
    "numbers_36 = [-2, 3, -8, 1, 0, -4]\n",
    "\n",
    "sum_of_positives = sum([num for num in numbers_36 if num > 0])\n",
    "\n",
    "print(f\"sum of positives: {sum_of_positives}\")\n"
   ]
  },
  {
   "cell_type": "markdown",
   "metadata": {},
   "source": [
    "37. **Sum of Negative Numbers**"
   ]
  },
  {
   "cell_type": "code",
   "execution_count": 10,
   "metadata": {},
   "outputs": [
    {
     "name": "stdout",
     "output_type": "stream",
     "text": [
      "sum of negatives: -14\n"
     ]
    }
   ],
   "source": [
    "numbers_37 = [-2, 3, -8, 1, 0, -4]\n",
    "\n",
    "sum_of_negatives = sum([num for num in numbers_37 if num < 0])\n",
    "\n",
    "print(f\"sum of negatives: {sum_of_negatives}\")"
   ]
  },
  {
   "cell_type": "markdown",
   "metadata": {},
   "source": [
    "38. **Check Palindrome**"
   ]
  },
  {
   "cell_type": "code",
   "execution_count": 13,
   "metadata": {},
   "outputs": [
    {
     "name": "stdout",
     "output_type": "stream",
     "text": [
      "is palindrome: True\n"
     ]
    }
   ],
   "source": [
    "palindrome_list = [1, 2, 3, 2, 1]\n",
    "is_palindrome = palindrome_list == palindrome_list[::-1]\n",
    "\n",
    "print(f\"is palindrome: {is_palindrome}\")"
   ]
  },
  {
   "cell_type": "markdown",
   "metadata": {},
   "source": [
    "39. **Create Nested List**"
   ]
  },
  {
   "cell_type": "code",
   "execution_count": 14,
   "metadata": {},
   "outputs": [
    {
     "name": "stdout",
     "output_type": "stream",
     "text": [
      "nested sublist: [[1, 2], [3, 4], [5, 6], [7, 8], [9]]\n"
     ]
    }
   ],
   "source": [
    "numbers_39 = [1, 2, 3, 4, 5, 6, 7, 8, 9]\n",
    "sublist_size = 2\n",
    "\n",
    "nested_list = [numbers_39[i:i + sublist_size] for i in range(0, len(numbers_39), sublist_size)]\n",
    "\n",
    "print(f\"nested sublist: {nested_list}\")"
   ]
  },
  {
   "cell_type": "markdown",
   "metadata": {},
   "source": [
    "40. **Get Unique Elements in Order**"
   ]
  },
  {
   "cell_type": "code",
   "execution_count": 16,
   "metadata": {},
   "outputs": [
    {
     "name": "stdout",
     "output_type": "stream",
     "text": [
      "[2, 1, 3, 5, 4]\n"
     ]
    }
   ],
   "source": [
    "numbers_40 = [2, 1, 3, 3, 5, 5, 5, 4]\n",
    "\n",
    "unique_list = []\n",
    "for i in numbers_40:\n",
    "    if i not in unique_list:\n",
    "        unique_list.append(i)\n",
    "\n",
    "print(f\"{unique_list}\")"
   ]
  },
  {
   "cell_type": "code",
   "execution_count": null,
   "metadata": {},
   "outputs": [],
   "source": []
  }
 ],
 "metadata": {
  "kernelspec": {
   "display_name": "Python 3",
   "language": "python",
   "name": "python3"
  },
  "language_info": {
   "codemirror_mode": {
    "name": "ipython",
    "version": 3
   },
   "file_extension": ".py",
   "mimetype": "text/x-python",
   "name": "python",
   "nbconvert_exporter": "python",
   "pygments_lexer": "ipython3",
   "version": "3.12.6"
  }
 },
 "nbformat": 4,
 "nbformat_minor": 2
}
