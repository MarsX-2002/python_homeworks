{
 "cells": [
  {
   "cell_type": "markdown",
   "metadata": {},
   "source": [
    "Tuple tasks"
   ]
  },
  {
   "cell_type": "markdown",
   "metadata": {},
   "source": [
    "1. **Count Occurrences**"
   ]
  },
  {
   "cell_type": "code",
   "execution_count": 1,
   "metadata": {},
   "outputs": [
    {
     "name": "stdout",
     "output_type": "stream",
     "text": [
      "3 appears 2 times\n"
     ]
    }
   ],
   "source": [
    "numbers_1 = (1, 2, 3, 3, 4, 5, 4)\n",
    "num = 3\n",
    "\n",
    "x = numbers_1.count(num)\n",
    "\n",
    "print(f\"{num} appears {x} times\")"
   ]
  },
  {
   "cell_type": "markdown",
   "metadata": {},
   "source": [
    "2. **Max Element**"
   ]
  },
  {
   "cell_type": "code",
   "execution_count": 2,
   "metadata": {},
   "outputs": [
    {
     "name": "stdout",
     "output_type": "stream",
     "text": [
      "largest: 7\n"
     ]
    }
   ],
   "source": [
    "numbers_2 = (2, 1, 4, 3, 7, 5, 6)\n",
    "\n",
    "largest = max(numbers_2)\n",
    "\n",
    "print(f\"largest: {largest}\")"
   ]
  },
  {
   "cell_type": "markdown",
   "metadata": {},
   "source": [
    "3. **Min Element**"
   ]
  },
  {
   "cell_type": "code",
   "execution_count": 6,
   "metadata": {},
   "outputs": [
    {
     "name": "stdout",
     "output_type": "stream",
     "text": [
      "smallest: -3\n"
     ]
    }
   ],
   "source": [
    "numbers_3 = (2, 1, 4, -3, 7, 5, 6)\n",
    "\n",
    "smallest = min(numbers_3)\n",
    "\n",
    "print(f\"smallest: {smallest}\")"
   ]
  },
  {
   "cell_type": "markdown",
   "metadata": {},
   "source": [
    "4. **Check Element**"
   ]
  },
  {
   "cell_type": "code",
   "execution_count": 7,
   "metadata": {},
   "outputs": [
    {
     "name": "stdout",
     "output_type": "stream",
     "text": [
      "True\n"
     ]
    }
   ],
   "source": [
    "numbers_4 = (2, 1, 4, -3, 7, 5, 6)\n",
    "number = 5\n",
    "\n",
    "is_present = number in numbers_4\n",
    "\n",
    "print(is_present)"
   ]
  },
  {
   "cell_type": "markdown",
   "metadata": {},
   "source": [
    "5. **First Element**"
   ]
  },
  {
   "cell_type": "code",
   "execution_count": 9,
   "metadata": {},
   "outputs": [
    {
     "name": "stdout",
     "output_type": "stream",
     "text": [
      "first number: None\n"
     ]
    }
   ],
   "source": [
    "numbers_5 = ()\n",
    "\n",
    "first_num = numbers_5[0] if numbers_5 else None\n",
    "\n",
    "print(f\"first number: {first_num}\")"
   ]
  },
  {
   "cell_type": "markdown",
   "metadata": {},
   "source": [
    "6. **Last Element**"
   ]
  },
  {
   "cell_type": "code",
   "execution_count": 11,
   "metadata": {},
   "outputs": [
    {
     "name": "stdout",
     "output_type": "stream",
     "text": [
      "last number: 1\n"
     ]
    }
   ],
   "source": [
    "numbers_6 = (1,)\n",
    "\n",
    "last_num = numbers_6[-1] if numbers_6 else None\n",
    "\n",
    "print(f\"last number: {last_num}\")"
   ]
  },
  {
   "cell_type": "markdown",
   "metadata": {},
   "source": [
    "7. **Tuple Length**"
   ]
  },
  {
   "cell_type": "code",
   "execution_count": 12,
   "metadata": {},
   "outputs": [
    {
     "name": "stdout",
     "output_type": "stream",
     "text": [
      "tuple length: 4\n"
     ]
    }
   ],
   "source": [
    "numbers_7 = (1, 3, 4, 5,)\n",
    "\n",
    "tuple_length = len(numbers_7)\n",
    "\n",
    "print(f\"tuple length: {tuple_length}\")"
   ]
  },
  {
   "cell_type": "markdown",
   "metadata": {},
   "source": [
    "8. **Slice Tuple**"
   ]
  },
  {
   "cell_type": "code",
   "execution_count": 13,
   "metadata": {},
   "outputs": [
    {
     "name": "stdout",
     "output_type": "stream",
     "text": [
      "first three numbers: (1, 3, 4)\n"
     ]
    }
   ],
   "source": [
    "numbers_8 = (1, 3, 4, 5, 6)\n",
    "\n",
    "three = numbers_8[:3]\n",
    "\n",
    "print(f\"first three numbers: {three}\")"
   ]
  },
  {
   "cell_type": "markdown",
   "metadata": {},
   "source": [
    "9. **Concatenate Tuples**"
   ]
  },
  {
   "cell_type": "code",
   "execution_count": 14,
   "metadata": {},
   "outputs": [
    {
     "name": "stdout",
     "output_type": "stream",
     "text": [
      "new tuple: (1, 3, 5, 1, 2, 4)\n"
     ]
    }
   ],
   "source": [
    "tuple_a = (1, 3, 5)\n",
    "tuple_b = (1, 2, 4)\n",
    "\n",
    "new_tuple = tuple_a + tuple_b\n",
    "\n",
    "print(f\"new tuple: {new_tuple}\")"
   ]
  },
  {
   "cell_type": "markdown",
   "metadata": {},
   "source": [
    "10. **Check if Tuple is Empty**"
   ]
  },
  {
   "cell_type": "markdown",
   "metadata": {},
   "source": []
  },
  {
   "cell_type": "code",
   "execution_count": 16,
   "metadata": {},
   "outputs": [
    {
     "name": "stdout",
     "output_type": "stream",
     "text": [
      "is empty: False\n"
     ]
    }
   ],
   "source": [
    "numbers_10 = (1, )\n",
    "is_empty = not bool(numbers_10)\n",
    "\n",
    "print(f\"is empty: {is_empty}\")"
   ]
  },
  {
   "cell_type": "markdown",
   "metadata": {},
   "source": [
    "11. **Get All Indices of Element**"
   ]
  },
  {
   "cell_type": "markdown",
   "metadata": {},
   "source": []
  },
  {
   "cell_type": "code",
   "execution_count": 17,
   "metadata": {},
   "outputs": [
    {
     "name": "stdout",
     "output_type": "stream",
     "text": [
      "indices: [0, 3]\n"
     ]
    }
   ],
   "source": [
    "numbers_11 = (1, 3, 5, 1, 2, 4)\n",
    "num = 1\n",
    "\n",
    "indices = [i for i, x in enumerate(numbers_11) if x == num]\n",
    "\n",
    "print(f\"indices: {indices}\")"
   ]
  },
  {
   "cell_type": "markdown",
   "metadata": {},
   "source": [
    "12. **Find Second Largest**"
   ]
  },
  {
   "cell_type": "code",
   "execution_count": 18,
   "metadata": {},
   "outputs": [
    {
     "name": "stdout",
     "output_type": "stream",
     "text": [
      "second largest: 4\n"
     ]
    }
   ],
   "source": [
    "numbers_12 = (1, 2, 3, 4, 5, 4, 5)\n",
    "\n",
    "second_largest = tuple(sorted(set(numbers_12)))[-2]\n",
    "\n",
    "print(f\"second largest: {second_largest}\")"
   ]
  },
  {
   "cell_type": "markdown",
   "metadata": {},
   "source": [
    "13. **Find Second Smallest**"
   ]
  },
  {
   "cell_type": "code",
   "execution_count": 19,
   "metadata": {},
   "outputs": [
    {
     "name": "stdout",
     "output_type": "stream",
     "text": [
      "second smallest: 2\n"
     ]
    }
   ],
   "source": [
    "numbers_13 = (1, 1, 2, 3, 4, 5, 4, 5)\n",
    "\n",
    "second_smallest = list(sorted(set(numbers_13)))[1]\n",
    "\n",
    "print(f\"second smallest: {second_smallest}\")"
   ]
  },
  {
   "cell_type": "markdown",
   "metadata": {},
   "source": [
    "14. **Create a Single Element Tuple**"
   ]
  },
  {
   "cell_type": "code",
   "execution_count": 23,
   "metadata": {},
   "outputs": [
    {
     "name": "stdout",
     "output_type": "stream",
     "text": [
      "(3,) <class 'tuple'>\n"
     ]
    }
   ],
   "source": [
    "element = 3\n",
    "single_tuple = (element, )\n",
    "\n",
    "print(single_tuple, type(single_tuple))"
   ]
  },
  {
   "cell_type": "markdown",
   "metadata": {},
   "source": [
    "15. **Convert List to Tuple**"
   ]
  },
  {
   "cell_type": "code",
   "execution_count": 24,
   "metadata": {},
   "outputs": [
    {
     "name": "stdout",
     "output_type": "stream",
     "text": [
      "tuple: (1, 1, 2, 3, 4, 5, 4, 5); type: <class 'tuple'>\n"
     ]
    }
   ],
   "source": [
    "numbers_15 = [1, 1, 2, 3, 4, 5, 4, 5]\n",
    "\n",
    "tuple_nums = tuple(numbers_15)\n",
    "\n",
    "print(f\"tuple: {tuple_nums}; type: {type(tuple_nums)}\")"
   ]
  },
  {
   "cell_type": "markdown",
   "metadata": {},
   "source": [
    "16. **Check if Tuple is Sorted**"
   ]
  },
  {
   "cell_type": "code",
   "execution_count": 25,
   "metadata": {},
   "outputs": [
    {
     "name": "stdout",
     "output_type": "stream",
     "text": [
      "(5, 4, 3, 2, 1) is ascending: False\n"
     ]
    }
   ],
   "source": [
    "numbers_16 = (5, 4, 3, 2, 1)\n",
    "sorted_nums_ascending = sorted(numbers_16)\n",
    "\n",
    "is_ascending = sorted_nums_ascending == numbers_16\n",
    "\n",
    "print(f\"{numbers_16} is ascending: {is_ascending}\")"
   ]
  },
  {
   "cell_type": "markdown",
   "metadata": {},
   "source": [
    "17. **Find Maximum of Subtuple**"
   ]
  },
  {
   "cell_type": "code",
   "execution_count": 27,
   "metadata": {},
   "outputs": [
    {
     "name": "stdout",
     "output_type": "stream",
     "text": [
      "max of (2, 3, 4): 4\n"
     ]
    }
   ],
   "source": [
    "numbers_17 = (1, 2, 3, 4, 5)\n",
    "start = 1\n",
    "end = 4\n",
    "\n",
    "subtuple = numbers_17[start:end]\n",
    "max_subtuple = max(subtuple)\n",
    "\n",
    "print(f\"max of {subtuple}: {max_subtuple}\")"
   ]
  },
  {
   "cell_type": "markdown",
   "metadata": {},
   "source": [
    "18. **Find Minimum of Subtuple**"
   ]
  },
  {
   "cell_type": "code",
   "execution_count": 28,
   "metadata": {},
   "outputs": [
    {
     "name": "stdout",
     "output_type": "stream",
     "text": [
      "min of (2, 3, 4): 2\n"
     ]
    }
   ],
   "source": [
    "numbers_18 = (1, 2, 3, 4, 5)\n",
    "start = 1\n",
    "end = 4\n",
    "\n",
    "subtuple = numbers_18[start:end]\n",
    "min_subtuple = min(subtuple)\n",
    "\n",
    "print(f\"min of {subtuple}: {min_subtuple}\")"
   ]
  },
  {
   "cell_type": "markdown",
   "metadata": {},
   "source": [
    "19. **Remove Element by Value**"
   ]
  },
  {
   "cell_type": "code",
   "execution_count": 31,
   "metadata": {},
   "outputs": [
    {
     "name": "stdout",
     "output_type": "stream",
     "text": [
      "1 removed: (2, 3, 3, 1, 2)\n"
     ]
    }
   ],
   "source": [
    "numbers_19 = (2, 1, 3, 3, 1, 2)\n",
    "num = 1\n",
    "\n",
    "temp_list = list(numbers_19)\n",
    "temp_list.remove(num)\n",
    "removed_tuple = tuple(temp_list)\n",
    "\n",
    "print(f\"{num} removed: {removed_tuple}\")"
   ]
  },
  {
   "cell_type": "markdown",
   "metadata": {},
   "source": [
    "20. **Create Nested Tuple**"
   ]
  },
  {
   "cell_type": "code",
   "execution_count": 34,
   "metadata": {},
   "outputs": [
    {
     "name": "stdout",
     "output_type": "stream",
     "text": [
      "nested tuple: ((1, 2), (3, 4), (3, 2), (1,))\n"
     ]
    }
   ],
   "source": [
    "numbers_20 = (1, 2, 3, 4, 3, 2, 1)\n",
    "sub_size = 2\n",
    "\n",
    "nested_tuple = tuple([tuple(numbers_20[i:i + sub_size]) for i in range(0, len(numbers_20), sub_size)])\n",
    "\n",
    "print(f\"nested tuple: {nested_tuple}\")"
   ]
  },
  {
   "cell_type": "code",
   "execution_count": null,
   "metadata": {},
   "outputs": [],
   "source": []
  }
 ],
 "metadata": {
  "kernelspec": {
   "display_name": "Python 3",
   "language": "python",
   "name": "python3"
  },
  "language_info": {
   "codemirror_mode": {
    "name": "ipython",
    "version": 3
   },
   "file_extension": ".py",
   "mimetype": "text/x-python",
   "name": "python",
   "nbconvert_exporter": "python",
   "pygments_lexer": "ipython3",
   "version": "3.12.6"
  }
 },
 "nbformat": 4,
 "nbformat_minor": 2
}
