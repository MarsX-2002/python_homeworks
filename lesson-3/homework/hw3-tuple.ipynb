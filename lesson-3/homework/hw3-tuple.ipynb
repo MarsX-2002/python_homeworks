{
 "cells": [
  {
   "cell_type": "markdown",
   "metadata": {},
   "source": [
    "Tuple tasks"
   ]
  },
  {
   "cell_type": "markdown",
   "metadata": {},
   "source": [
    "1. **Count Occurrences**"
   ]
  },
  {
   "cell_type": "code",
   "execution_count": 1,
   "metadata": {},
   "outputs": [
    {
     "name": "stdout",
     "output_type": "stream",
     "text": [
      "3 appears 2 times\n"
     ]
    }
   ],
   "source": [
    "numbers_1 = (1, 2, 3, 3, 4, 5, 4)\n",
    "num = 3\n",
    "\n",
    "x = numbers_1.count(num)\n",
    "\n",
    "print(f\"{num} appears {x} times\")"
   ]
  },
  {
   "cell_type": "markdown",
   "metadata": {},
   "source": [
    "2. **Max Element**"
   ]
  },
  {
   "cell_type": "code",
   "execution_count": 2,
   "metadata": {},
   "outputs": [
    {
     "name": "stdout",
     "output_type": "stream",
     "text": [
      "largest: 7\n"
     ]
    }
   ],
   "source": [
    "numbers_2 = (2, 1, 4, 3, 7, 5, 6)\n",
    "\n",
    "largest = max(numbers_2)\n",
    "\n",
    "print(f\"largest: {largest}\")"
   ]
  },
  {
   "cell_type": "markdown",
   "metadata": {},
   "source": [
    "3. **Min Element**"
   ]
  },
  {
   "cell_type": "code",
   "execution_count": 6,
   "metadata": {},
   "outputs": [
    {
     "name": "stdout",
     "output_type": "stream",
     "text": [
      "smallest: -3\n"
     ]
    }
   ],
   "source": [
    "numbers_3 = (2, 1, 4, -3, 7, 5, 6)\n",
    "\n",
    "smallest = min(numbers_3)\n",
    "\n",
    "print(f\"smallest: {smallest}\")"
   ]
  },
  {
   "cell_type": "markdown",
   "metadata": {},
   "source": [
    "4. **Check Element**"
   ]
  },
  {
   "cell_type": "code",
   "execution_count": 7,
   "metadata": {},
   "outputs": [
    {
     "name": "stdout",
     "output_type": "stream",
     "text": [
      "True\n"
     ]
    }
   ],
   "source": [
    "numbers_4 = (2, 1, 4, -3, 7, 5, 6)\n",
    "number = 5\n",
    "\n",
    "is_present = number in numbers_4\n",
    "\n",
    "print(is_present)"
   ]
  },
  {
   "cell_type": "markdown",
   "metadata": {},
   "source": [
    "5. **First Element**"
   ]
  },
  {
   "cell_type": "code",
   "execution_count": 9,
   "metadata": {},
   "outputs": [
    {
     "name": "stdout",
     "output_type": "stream",
     "text": [
      "first number: None\n"
     ]
    }
   ],
   "source": [
    "numbers_5 = ()\n",
    "\n",
    "first_num = numbers_5[0] if numbers_5 else None\n",
    "\n",
    "print(f\"first number: {first_num}\")"
   ]
  },
  {
   "cell_type": "markdown",
   "metadata": {},
   "source": [
    "6. **Last Element**"
   ]
  },
  {
   "cell_type": "code",
   "execution_count": 11,
   "metadata": {},
   "outputs": [
    {
     "name": "stdout",
     "output_type": "stream",
     "text": [
      "last number: 1\n"
     ]
    }
   ],
   "source": [
    "numbers_6 = (1,)\n",
    "\n",
    "last_num = numbers_6[-1] if numbers_6 else None\n",
    "\n",
    "print(f\"last number: {last_num}\")"
   ]
  },
  {
   "cell_type": "markdown",
   "metadata": {},
   "source": [
    "7. **Tuple Length**"
   ]
  },
  {
   "cell_type": "code",
   "execution_count": 12,
   "metadata": {},
   "outputs": [
    {
     "name": "stdout",
     "output_type": "stream",
     "text": [
      "tuple length: 4\n"
     ]
    }
   ],
   "source": [
    "numbers_7 = (1, 3, 4, 5,)\n",
    "\n",
    "tuple_length = len(numbers_7)\n",
    "\n",
    "print(f\"tuple length: {tuple_length}\")"
   ]
  },
  {
   "cell_type": "markdown",
   "metadata": {},
   "source": [
    "8. **Slice Tuple**"
   ]
  },
  {
   "cell_type": "code",
   "execution_count": 13,
   "metadata": {},
   "outputs": [
    {
     "name": "stdout",
     "output_type": "stream",
     "text": [
      "first three numbers: (1, 3, 4)\n"
     ]
    }
   ],
   "source": [
    "numbers_8 = (1, 3, 4, 5, 6)\n",
    "\n",
    "three = numbers_8[:3]\n",
    "\n",
    "print(f\"first three numbers: {three}\")"
   ]
  },
  {
   "cell_type": "markdown",
   "metadata": {},
   "source": [
    "9. **Concatenate Tuples**"
   ]
  },
  {
   "cell_type": "code",
   "execution_count": 14,
   "metadata": {},
   "outputs": [
    {
     "name": "stdout",
     "output_type": "stream",
     "text": [
      "new tuple: (1, 3, 5, 1, 2, 4)\n"
     ]
    }
   ],
   "source": [
    "tuple_a = (1, 3, 5)\n",
    "tuple_b = (1, 2, 4)\n",
    "\n",
    "new_tuple = tuple_a + tuple_b\n",
    "\n",
    "print(f\"new tuple: {new_tuple}\")"
   ]
  },
  {
   "cell_type": "markdown",
   "metadata": {},
   "source": [
    "10. **Check if Tuple is Empty**"
   ]
  },
  {
   "cell_type": "markdown",
   "metadata": {},
   "source": []
  },
  {
   "cell_type": "code",
   "execution_count": 16,
   "metadata": {},
   "outputs": [
    {
     "name": "stdout",
     "output_type": "stream",
     "text": [
      "is empty: False\n"
     ]
    }
   ],
   "source": [
    "numbers_10 = (1, )\n",
    "is_empty = not bool(numbers_10)\n",
    "\n",
    "print(f\"is empty: {is_empty}\")"
   ]
  },
  {
   "cell_type": "markdown",
   "metadata": {},
   "source": []
  }
 ],
 "metadata": {
  "kernelspec": {
   "display_name": "Python 3",
   "language": "python",
   "name": "python3"
  },
  "language_info": {
   "codemirror_mode": {
    "name": "ipython",
    "version": 3
   },
   "file_extension": ".py",
   "mimetype": "text/x-python",
   "name": "python",
   "nbconvert_exporter": "python",
   "pygments_lexer": "ipython3",
   "version": "3.12.6"
  }
 },
 "nbformat": 4,
 "nbformat_minor": 2
}
